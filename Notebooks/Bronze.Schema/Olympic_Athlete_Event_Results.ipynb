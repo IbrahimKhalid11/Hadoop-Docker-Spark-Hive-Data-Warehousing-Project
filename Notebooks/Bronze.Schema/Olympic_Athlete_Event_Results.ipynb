{
 "cells": [
  {
   "cell_type": "code",
   "execution_count": 1,
   "id": "934bc15c",
   "metadata": {},
   "outputs": [],
   "source": [
    "from pyspark.sql import SparkSession"
   ]
  },
  {
   "cell_type": "code",
   "execution_count": 2,
   "id": "04fc76f9",
   "metadata": {},
   "outputs": [
    {
     "name": "stderr",
     "output_type": "stream",
     "text": [
      "25/04/13 01:10:24 WARN SparkSession: Using an existing Spark session; only runtime SQL configurations will take effect.\n"
     ]
    }
   ],
   "source": [
    "spark = SparkSession.builder \\\n",
    "    .appName(\"Athlete_Event_Results\") \\\n",
    "    .getOrCreate()"
   ]
  },
  {
   "cell_type": "code",
   "execution_count": 7,
   "id": "80b57a35",
   "metadata": {},
   "outputs": [],
   "source": [
    "Local_Path =\"file:///home/ibrahimkhalid/Projects/Hadoop-Docker-Spark-Sql-Hive-Data-Pipeline/Input_data/Olympic_Athlete_Event_Results.csv\"\n",
    "df = spark.read.csv(Local_Path,header=True)"
   ]
  },
  {
   "cell_type": "code",
   "execution_count": 8,
   "id": "2d37be39",
   "metadata": {},
   "outputs": [
    {
     "name": "stdout",
     "output_type": "stream",
     "text": [
      "+--------------------+----------+-----------+---------+---------------+---------+---------------+----------+---------+-----+-----------+\n",
      "|             edition|edition_id|country_noc|    sport|          event|result_id|        athlete|athlete_id|      pos|medal|isTeamSport|\n",
      "+--------------------+----------+-----------+---------+---------------+---------+---------------+----------+---------+-----+-----------+\n",
      "|1908 Summer Olympics|         5|        ANZ|Athletics|100 metres, Men|    56265|Ernest Hutcheon|     64710|      DNS| NULL|      False|\n",
      "|1908 Summer Olympics|         5|        ANZ|Athletics|400 metres, Men|    56313|   Henry Murray|     64756|      DNS| NULL|      False|\n",
      "|1908 Summer Olympics|         5|        ANZ|Athletics|800 metres, Men|    56338|  Harvey Sutton|     64808|3 h8 r1/2| NULL|      False|\n",
      "|1908 Summer Olympics|         5|        ANZ|Athletics|800 metres, Men|    56338|    Guy Haskins|    922519|      DNS| NULL|      False|\n",
      "|1908 Summer Olympics|         5|        ANZ|Athletics|800 metres, Men|    56338|   Joseph Lynch|     64735|      DNS| NULL|      False|\n",
      "+--------------------+----------+-----------+---------+---------------+---------+---------------+----------+---------+-----+-----------+\n",
      "only showing top 5 rows\n",
      "\n"
     ]
    }
   ],
   "source": [
    "df.show(5)"
   ]
  },
  {
   "cell_type": "code",
   "execution_count": 9,
   "id": "cd32d3ed",
   "metadata": {},
   "outputs": [
    {
     "data": {
      "text/plain": [
       "316834"
      ]
     },
     "execution_count": 9,
     "metadata": {},
     "output_type": "execute_result"
    }
   ],
   "source": [
    "df.count()"
   ]
  },
  {
   "cell_type": "code",
   "execution_count": 10,
   "id": "2427fa9e",
   "metadata": {},
   "outputs": [
    {
     "name": "stderr",
     "output_type": "stream",
     "text": [
      "                                                                                \r"
     ]
    }
   ],
   "source": [
    "df.write.mode(\"overwrite\").parquet(\"hdfs:///data/bronze/Olympic_Athlete_Event_Results_parquet\")"
   ]
  },
  {
   "cell_type": "code",
   "execution_count": null,
   "id": "e83c5f92-d04e-4610-816d-7d02e8295c9c",
   "metadata": {},
   "outputs": [],
   "source": []
  }
 ],
 "metadata": {
  "kernelspec": {
   "display_name": "Python 3 (ipykernel)",
   "language": "python",
   "name": "python3"
  },
  "language_info": {
   "codemirror_mode": {
    "name": "ipython",
    "version": 3
   },
   "file_extension": ".py",
   "mimetype": "text/x-python",
   "name": "python",
   "nbconvert_exporter": "python",
   "pygments_lexer": "ipython3",
   "version": "3.11.7"
  }
 },
 "nbformat": 4,
 "nbformat_minor": 5
}
