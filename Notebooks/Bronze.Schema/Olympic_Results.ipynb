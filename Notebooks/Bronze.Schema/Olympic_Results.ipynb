{
 "cells": [
  {
   "cell_type": "code",
   "execution_count": 9,
   "id": "934bc15c",
   "metadata": {},
   "outputs": [],
   "source": [
    "from pyspark.sql import SparkSession"
   ]
  },
  {
   "cell_type": "code",
   "execution_count": 10,
   "id": "04fc76f9",
   "metadata": {},
   "outputs": [],
   "source": [
    "spark = SparkSession.builder \\\n",
    "    .appName(\"Results\") \\\n",
    "    .getOrCreate()"
   ]
  },
  {
   "cell_type": "code",
   "execution_count": 11,
   "id": "80b57a35",
   "metadata": {},
   "outputs": [],
   "source": [
    "Local_Path =\"file:///home/ibrahimkhalid/Projects/Hadoop-Docker-Spark-Sql-Hive-Data-Pipeline/Input_data/Olympic_Results.csv\"\n",
    "df = spark.read.csv(Local_Path,header=True)"
   ]
  },
  {
   "cell_type": "code",
   "execution_count": 12,
   "id": "65b6d3c6-0672-426f-9e25-84b520ea3557",
   "metadata": {},
   "outputs": [
    {
     "data": {
      "text/html": [
       "<style>pre { white-space: pre !important; }</style>"
      ],
      "text/plain": [
       "<IPython.core.display.HTML object>"
      ]
     },
     "metadata": {},
     "output_type": "display_data"
    }
   ],
   "source": [
    "from IPython.display import display, HTML\n",
    "display(HTML(\"<style>pre { white-space: pre !important; }</style>\"))"
   ]
  },
  {
   "cell_type": "code",
   "execution_count": 13,
   "id": "2d37be39",
   "metadata": {},
   "outputs": [
    {
     "name": "stdout",
     "output_type": "stream",
     "text": [
      "+---------+--------------------+--------------------+----------+-------------+--------------------+--------------------+--------------------+--------------------+--------------------+--------------------+--------------------+\n",
      "|result_id|         event_title|             edition|edition_id|        sport|           sport_url|         result_date|     result_location| result_participants|       result_format|       result_detail|  result_description|\n",
      "+---------+--------------------+--------------------+----------+-------------+--------------------+--------------------+--------------------+--------------------+--------------------+--------------------+--------------------+\n",
      "|    30359|Super-Heavyweight...|2004 Summer Olympics|        26|Weightlifting|/editions/26/spor...|25 August 2004 — ...|Olympiako Gymnast...|17 from 15 countries|Total of best lif...|                  na|Not so much a com...|\n",
      "|        \"|                NULL|                NULL|      NULL|         NULL|                NULL|                NULL|                NULL|                NULL|                NULL|                NULL|                NULL|\n",
      "|     1626|Giant Slalom, Women1|1998 Winter Olympics|        46| Snowboarding|/editions/46/spor...|     9 February 1998|Mt. Yakebitai, Sh...|31 from 14 countries|Two runs, total t...|Gates: 38 / 36Len...|The women’s giant...|\n",
      "|        \"|                NULL|                NULL|      NULL|         NULL|                NULL|                NULL|                NULL|                NULL|                NULL|                NULL|                NULL|\n",
      "|       76|        Singles, Men|1976 Winter Olympics|        40|         Luge|/editions/40/spor...|4 –  7 February 1976|Kunsteis-Bob- und...|43 from 15 countries|Four runs, total ...|Curves: 14Length:...|Once more, the co...|\n",
      "+---------+--------------------+--------------------+----------+-------------+--------------------+--------------------+--------------------+--------------------+--------------------+--------------------+--------------------+\n",
      "only showing top 5 rows\n",
      "\n"
     ]
    }
   ],
   "source": [
    "df.show(5)"
   ]
  },
  {
   "cell_type": "code",
   "execution_count": 14,
   "id": "cd32d3ed",
   "metadata": {},
   "outputs": [
    {
     "data": {
      "text/plain": [
       "20782"
      ]
     },
     "execution_count": 14,
     "metadata": {},
     "output_type": "execute_result"
    }
   ],
   "source": [
    "df.count()"
   ]
  },
  {
   "cell_type": "code",
   "execution_count": 15,
   "id": "957351e0",
   "metadata": {},
   "outputs": [
    {
     "name": "stdout",
     "output_type": "stream",
     "text": [
      "root\n",
      " |-- result_id: string (nullable = true)\n",
      " |-- event_title: string (nullable = true)\n",
      " |-- edition: string (nullable = true)\n",
      " |-- edition_id: string (nullable = true)\n",
      " |-- sport: string (nullable = true)\n",
      " |-- sport_url: string (nullable = true)\n",
      " |-- result_date: string (nullable = true)\n",
      " |-- result_location: string (nullable = true)\n",
      " |-- result_participants: string (nullable = true)\n",
      " |-- result_format: string (nullable = true)\n",
      " |-- result_detail: string (nullable = true)\n",
      " |-- result_description: string (nullable = true)\n",
      "\n"
     ]
    }
   ],
   "source": [
    "df.printSchema()"
   ]
  },
  {
   "cell_type": "code",
   "execution_count": 16,
   "id": "2427fa9e",
   "metadata": {},
   "outputs": [
    {
     "name": "stderr",
     "output_type": "stream",
     "text": [
      "                                                                                \r"
     ]
    }
   ],
   "source": [
    "df.write.mode(\"overwrite\").parquet(\"hdfs:///data/bronze/Olympic_Results_parquet\")"
   ]
  },
  {
   "cell_type": "code",
   "execution_count": null,
   "id": "20841391-2eef-4f53-9b32-590fc877f537",
   "metadata": {},
   "outputs": [],
   "source": []
  }
 ],
 "metadata": {
  "kernelspec": {
   "display_name": "Python 3 (ipykernel)",
   "language": "python",
   "name": "python3"
  },
  "language_info": {
   "codemirror_mode": {
    "name": "ipython",
    "version": 3
   },
   "file_extension": ".py",
   "mimetype": "text/x-python",
   "name": "python",
   "nbconvert_exporter": "python",
   "pygments_lexer": "ipython3",
   "version": "3.11.7"
  }
 },
 "nbformat": 4,
 "nbformat_minor": 5
}
