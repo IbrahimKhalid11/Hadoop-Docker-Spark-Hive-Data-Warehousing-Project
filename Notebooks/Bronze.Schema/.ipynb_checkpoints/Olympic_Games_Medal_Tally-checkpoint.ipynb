{
 "cells": [
  {
   "cell_type": "code",
   "execution_count": 1,
   "id": "934bc15c",
   "metadata": {},
   "outputs": [],
   "source": [
    "from pyspark.sql import SparkSession"
   ]
  },
  {
   "cell_type": "code",
   "execution_count": 6,
   "id": "04fc76f9",
   "metadata": {},
   "outputs": [
    {
     "name": "stderr",
     "output_type": "stream",
     "text": [
      "25/04/13 01:12:32 WARN SparkSession: Using an existing Spark session; only runtime SQL configurations will take effect.\n"
     ]
    }
   ],
   "source": [
    "spark = SparkSession.builder \\\n",
    "    .appName(\"Games_Medal\") \\\n",
    "    .config(\"spark.sql.parquet.compression.codec\", \"snappy\") \\\n",
    "    .getOrCreate()"
   ]
  },
  {
   "cell_type": "code",
   "execution_count": 7,
   "id": "80b57a35",
   "metadata": {},
   "outputs": [],
   "source": [
    "Local_Path =\"file:///home/ibrahimkhalid/Projects/Hadoop-Docker-Spark-Sql-Hive-Data-Pipeline/Input_data/Olympic_Games_Medal_Tally.csv\"\n",
    "df = spark.read.csv(Local_Path,header=True)"
   ]
  },
  {
   "cell_type": "code",
   "execution_count": 8,
   "id": "2d37be39",
   "metadata": {},
   "outputs": [
    {
     "name": "stdout",
     "output_type": "stream",
     "text": [
      "+--------------------+----------+----+-------------+-----------+----+------+------+-----+\n",
      "|             edition|edition_id|year|      country|country_noc|gold|silver|bronze|total|\n",
      "+--------------------+----------+----+-------------+-----------+----+------+------+-----+\n",
      "|1896 Summer Olympics|         1|1896|United States|        USA|  11|     7|     2|   20|\n",
      "|1896 Summer Olympics|         1|1896|       Greece|        GRE|  10|    18|    19|   47|\n",
      "|1896 Summer Olympics|         1|1896|      Germany|        GER|   6|     5|     2|   13|\n",
      "|1896 Summer Olympics|         1|1896|       France|        FRA|   5|     4|     2|   11|\n",
      "|1896 Summer Olympics|         1|1896|Great Britain|        GBR|   2|     3|     2|    7|\n",
      "+--------------------+----------+----+-------------+-----------+----+------+------+-----+\n",
      "only showing top 5 rows\n",
      "\n"
     ]
    }
   ],
   "source": [
    "df.show(5)"
   ]
  },
  {
   "cell_type": "code",
   "execution_count": 9,
   "id": "cd32d3ed",
   "metadata": {},
   "outputs": [
    {
     "data": {
      "text/plain": [
       "1807"
      ]
     },
     "execution_count": 9,
     "metadata": {},
     "output_type": "execute_result"
    }
   ],
   "source": [
    "df.count()"
   ]
  },
  {
   "cell_type": "code",
   "execution_count": 10,
   "id": "2427fa9e",
   "metadata": {},
   "outputs": [
    {
     "name": "stderr",
     "output_type": "stream",
     "text": [
      "                                                                                \r"
     ]
    }
   ],
   "source": [
    "df.write.mode(\"overwrite\").parquet(\"hdfs:///data/bronze/Olympic_Games_Medal_Tally_parquet\")"
   ]
  },
  {
   "cell_type": "code",
   "execution_count": null,
   "id": "6f2a836b-13c4-42ef-af9c-89159a3ea5c3",
   "metadata": {},
   "outputs": [],
   "source": []
  }
 ],
 "metadata": {
  "kernelspec": {
   "display_name": "Python 3 (ipykernel)",
   "language": "python",
   "name": "python3"
  },
  "language_info": {
   "codemirror_mode": {
    "name": "ipython",
    "version": 3
   },
   "file_extension": ".py",
   "mimetype": "text/x-python",
   "name": "python",
   "nbconvert_exporter": "python",
   "pygments_lexer": "ipython3",
   "version": "3.11.7"
  }
 },
 "nbformat": 4,
 "nbformat_minor": 5
}
