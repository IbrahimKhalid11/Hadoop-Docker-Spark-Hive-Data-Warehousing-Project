{
 "cells": [
  {
   "cell_type": "code",
   "execution_count": 1,
   "id": "934bc15c",
   "metadata": {},
   "outputs": [],
   "source": [
    "from pyspark.sql import SparkSession"
   ]
  },
  {
   "cell_type": "code",
   "execution_count": 2,
   "id": "04fc76f9",
   "metadata": {},
   "outputs": [
    {
     "name": "stderr",
     "output_type": "stream",
     "text": [
      "25/04/13 01:29:06 WARN SparkSession: Using an existing Spark session; only runtime SQL configurations will take effect.\n"
     ]
    }
   ],
   "source": [
    "spark = SparkSession.builder \\\n",
    "    .appName(\"Games\") \\\n",
    "    .getOrCreate()"
   ]
  },
  {
   "cell_type": "code",
   "execution_count": 3,
   "id": "80b57a35",
   "metadata": {},
   "outputs": [
    {
     "name": "stderr",
     "output_type": "stream",
     "text": [
      "                                                                                \r"
     ]
    }
   ],
   "source": [
    "Local_Path =\"file:///home/ibrahimkhalid/Projects/Hadoop-Docker-Spark-Sql-Hive-Data-Pipeline/Input_data/Olympics_Games.csv\"\n",
    "df = spark.read.csv(Local_Path,header=True)"
   ]
  },
  {
   "cell_type": "code",
   "execution_count": 4,
   "id": "2d37be39",
   "metadata": {},
   "outputs": [
    {
     "name": "stdout",
     "output_type": "stream",
     "text": [
      "+--------------------+----------+-----------+----+---------+--------------------+-----------+----------+--------+--------------------+------+\n",
      "|             edition|edition_id|edition_url|year|     city|    country_flag_url|country_noc|start_date|end_date|    competition_date|isHeld|\n",
      "+--------------------+----------+-----------+----+---------+--------------------+-----------+----------+--------+--------------------+------+\n",
      "|1896 Summer Olympics|         1|/editions/1|1896|   Athina|https://olympedia...|        GRE|   6 April|15 April|        6 – 13 April|  NULL|\n",
      "|1900 Summer Olympics|         2|/editions/2|1900|    Paris|https://olympedia...|        FRA|      NULL|    NULL| 14 May – 28 October|  NULL|\n",
      "|1904 Summer Olympics|         3|/editions/3|1904|St. Louis|https://olympedia...|        USA|    14 May|    NULL| 1 July – 26 Nove...|  NULL|\n",
      "|1908 Summer Olympics|         5|/editions/5|1908|   London|https://olympedia...|        GBR|   13 July| 25 July|27 April – 31 Oct...|  NULL|\n",
      "|1912 Summer Olympics|         6|/editions/6|1912|Stockholm|https://olympedia...|        SWE|    6 July| 15 July|     5 May – 27 July|  NULL|\n",
      "+--------------------+----------+-----------+----+---------+--------------------+-----------+----------+--------+--------------------+------+\n",
      "only showing top 5 rows\n",
      "\n"
     ]
    }
   ],
   "source": [
    "df.show(5)"
   ]
  },
  {
   "cell_type": "code",
   "execution_count": 5,
   "id": "cd32d3ed",
   "metadata": {},
   "outputs": [
    {
     "data": {
      "text/plain": [
       "64"
      ]
     },
     "execution_count": 5,
     "metadata": {},
     "output_type": "execute_result"
    }
   ],
   "source": [
    "df.count()"
   ]
  },
  {
   "cell_type": "code",
   "execution_count": 6,
   "id": "957351e0",
   "metadata": {},
   "outputs": [
    {
     "name": "stdout",
     "output_type": "stream",
     "text": [
      "root\n",
      " |-- edition: string (nullable = true)\n",
      " |-- edition_id: string (nullable = true)\n",
      " |-- edition_url: string (nullable = true)\n",
      " |-- year: string (nullable = true)\n",
      " |-- city: string (nullable = true)\n",
      " |-- country_flag_url: string (nullable = true)\n",
      " |-- country_noc: string (nullable = true)\n",
      " |-- start_date: string (nullable = true)\n",
      " |-- end_date: string (nullable = true)\n",
      " |-- competition_date: string (nullable = true)\n",
      " |-- isHeld: string (nullable = true)\n",
      "\n"
     ]
    }
   ],
   "source": [
    "df.printSchema()"
   ]
  },
  {
   "cell_type": "code",
   "execution_count": 7,
   "id": "2427fa9e",
   "metadata": {},
   "outputs": [
    {
     "name": "stderr",
     "output_type": "stream",
     "text": [
      "                                                                                \r"
     ]
    }
   ],
   "source": [
    "df.write.mode(\"overwrite\").parquet(\"hdfs:///data/bronze/Olympics_Games_parquet\")"
   ]
  },
  {
   "cell_type": "code",
   "execution_count": null,
   "id": "10079a31-2af3-46f0-bfe7-7958f0ae3e27",
   "metadata": {},
   "outputs": [],
   "source": []
  }
 ],
 "metadata": {
  "kernelspec": {
   "display_name": "Python 3 (ipykernel)",
   "language": "python",
   "name": "python3"
  },
  "language_info": {
   "codemirror_mode": {
    "name": "ipython",
    "version": 3
   },
   "file_extension": ".py",
   "mimetype": "text/x-python",
   "name": "python",
   "nbconvert_exporter": "python",
   "pygments_lexer": "ipython3",
   "version": "3.11.7"
  }
 },
 "nbformat": 4,
 "nbformat_minor": 5
}
