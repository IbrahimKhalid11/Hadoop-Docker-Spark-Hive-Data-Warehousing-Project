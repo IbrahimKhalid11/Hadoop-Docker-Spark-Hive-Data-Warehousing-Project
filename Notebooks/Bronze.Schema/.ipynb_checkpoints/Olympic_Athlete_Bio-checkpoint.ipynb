{
 "cells": [
  {
   "cell_type": "code",
   "execution_count": 1,
   "id": "934bc15c",
   "metadata": {},
   "outputs": [],
   "source": [
    "from pyspark.sql import SparkSession"
   ]
  },
  {
   "cell_type": "code",
   "execution_count": 2,
   "id": "04fc76f9",
   "metadata": {},
   "outputs": [
    {
     "name": "stderr",
     "output_type": "stream",
     "text": [
      "25/04/13 00:59:19 WARN SparkSession: Using an existing Spark session; only runtime SQL configurations will take effect.\n"
     ]
    }
   ],
   "source": [
    "spark = SparkSession.builder \\\n",
    "    .appName(\"Athlete\") \\\n",
    "    .getOrCreate()"
   ]
  },
  {
   "cell_type": "code",
   "execution_count": 3,
   "id": "80b57a35",
   "metadata": {},
   "outputs": [
    {
     "name": "stderr",
     "output_type": "stream",
     "text": [
      "                                                                                \r"
     ]
    }
   ],
   "source": [
    "local_path = \"file:///home/ibrahimkhalid/Projects/Hadoop-Docker-Spark-Sql-Hive-Data-Pipeline/Input_data/Olympic_Athlete_Bio.csv\"\n",
    "\n",
    "df = spark.read.csv(local_path, header=True)"
   ]
  },
  {
   "cell_type": "code",
   "execution_count": 4,
   "id": "2d37be39",
   "metadata": {},
   "outputs": [
    {
     "name": "stdout",
     "output_type": "stream",
     "text": [
      "+----------+------------------+------+----------------+------+------+-------------------+-----------+--------------------+--------------------+\n",
      "|athlete_id|              name|   sex|            born|height|weight|            country|country_noc|         description|       special_notes|\n",
      "+----------+------------------+------+----------------+------+------+-------------------+-----------+--------------------+--------------------+\n",
      "|     65649|     Ivanka Bonova|Female|    4 April 1949|   166|    55|           Bulgaria|        BUL|Personal Best: 40...|                NULL|\n",
      "|    112510| Nataliya Uryadova|Female|   15 March 1977|   184|    70| Russian Federation|        RUS|                NULL|Listed in Olympia...|\n",
      "|    114973|Essa Ismail Rashed|  Male|14 December 1986|   165|    55|              Qatar|        QAT|Personal Best: 10...|Listed in Olympia...|\n",
      "|     30359|       Péter Boros|  Male| 12 January 1908|  NULL|  NULL|            Hungary|        HUN|Between 1927 and ...|                NULL|\n",
      "|     50557|    Rudolf Piowatý|  Male|   28 April 1900|  NULL|  NULL|     Czechoslovakia|        TCH|Rudolf Piowaty jo...|                NULL|\n",
      "+----------+------------------+------+----------------+------+------+-------------------+-----------+--------------------+--------------------+\n",
      "only showing top 5 rows\n",
      "\n"
     ]
    }
   ],
   "source": [
    "df.show(5)"
   ]
  },
  {
   "cell_type": "code",
   "execution_count": 5,
   "id": "cd32d3ed",
   "metadata": {},
   "outputs": [
    {
     "name": "stderr",
     "output_type": "stream",
     "text": [
      "                                                                                \r"
     ]
    },
    {
     "data": {
      "text/plain": [
       "155861"
      ]
     },
     "execution_count": 5,
     "metadata": {},
     "output_type": "execute_result"
    }
   ],
   "source": [
    "df.count()"
   ]
  },
  {
   "cell_type": "code",
   "execution_count": 6,
   "id": "e2777028-8ffc-492f-a8e1-f1937c556a37",
   "metadata": {},
   "outputs": [
    {
     "name": "stdout",
     "output_type": "stream",
     "text": [
      "root\n",
      " |-- athlete_id: string (nullable = true)\n",
      " |-- name: string (nullable = true)\n",
      " |-- sex: string (nullable = true)\n",
      " |-- born: string (nullable = true)\n",
      " |-- height: string (nullable = true)\n",
      " |-- weight: string (nullable = true)\n",
      " |-- country: string (nullable = true)\n",
      " |-- country_noc: string (nullable = true)\n",
      " |-- description: string (nullable = true)\n",
      " |-- special_notes: string (nullable = true)\n",
      "\n"
     ]
    }
   ],
   "source": [
    "df.printSchema()"
   ]
  },
  {
   "cell_type": "code",
   "execution_count": 7,
   "id": "957351e0",
   "metadata": {},
   "outputs": [
    {
     "name": "stderr",
     "output_type": "stream",
     "text": [
      "                                                                                \r"
     ]
    },
    {
     "data": {
      "text/plain": [
       "athlete_id            0\n",
       "name                  0\n",
       "sex                   0\n",
       "born               4053\n",
       "height            50749\n",
       "weight            50749\n",
       "country               0\n",
       "country_noc           0\n",
       "description      100998\n",
       "special_notes     95224\n",
       "dtype: int64"
      ]
     },
     "execution_count": 7,
     "metadata": {},
     "output_type": "execute_result"
    }
   ],
   "source": [
    "athlete =df.toPandas()\n",
    "athlete.isnull().sum()"
   ]
  },
  {
   "cell_type": "code",
   "execution_count": 8,
   "id": "2427fa9e",
   "metadata": {},
   "outputs": [
    {
     "name": "stderr",
     "output_type": "stream",
     "text": [
      "                                                                                \r"
     ]
    }
   ],
   "source": [
    "df.write.mode(\"overwrite\").parquet(\"hdfs:///data/bronze/Olympic_Athlete_Bio_parquet\")"
   ]
  },
  {
   "cell_type": "code",
   "execution_count": null,
   "id": "4de9d427-feb6-4910-95f6-e83e1ad7fd2a",
   "metadata": {},
   "outputs": [],
   "source": []
  }
 ],
 "metadata": {
  "kernelspec": {
   "display_name": "Python 3 (ipykernel)",
   "language": "python",
   "name": "python3"
  },
  "language_info": {
   "codemirror_mode": {
    "name": "ipython",
    "version": 3
   },
   "file_extension": ".py",
   "mimetype": "text/x-python",
   "name": "python",
   "nbconvert_exporter": "python",
   "pygments_lexer": "ipython3",
   "version": "3.11.7"
  }
 },
 "nbformat": 4,
 "nbformat_minor": 5
}
