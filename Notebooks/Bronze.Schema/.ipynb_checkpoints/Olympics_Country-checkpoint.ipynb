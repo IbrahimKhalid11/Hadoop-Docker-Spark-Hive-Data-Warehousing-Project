{
 "cells": [
  {
   "cell_type": "code",
   "execution_count": 1,
   "id": "934bc15c",
   "metadata": {},
   "outputs": [],
   "source": [
    "from pyspark.sql import SparkSession"
   ]
  },
  {
   "cell_type": "code",
   "execution_count": 2,
   "id": "04fc76f9",
   "metadata": {},
   "outputs": [
    {
     "name": "stderr",
     "output_type": "stream",
     "text": [
      "25/04/13 01:27:54 WARN SparkSession: Using an existing Spark session; only runtime SQL configurations will take effect.\n"
     ]
    }
   ],
   "source": [
    "spark = SparkSession.builder \\\n",
    "    .appName(\"Country\") \\\n",
    "    .getOrCreate()"
   ]
  },
  {
   "cell_type": "code",
   "execution_count": 8,
   "id": "80b57a35",
   "metadata": {},
   "outputs": [],
   "source": [
    "Local_Path =\"file:///home/ibrahimkhalid/Projects/Hadoop-Docker-Spark-Sql-Hive-Data-Pipeline/Input_data/Olympics_Country.csv\"\n",
    "df = spark.read.csv(Local_Path,header=True)"
   ]
  },
  {
   "cell_type": "code",
   "execution_count": 9,
   "id": "2d37be39",
   "metadata": {},
   "outputs": [
    {
     "name": "stdout",
     "output_type": "stream",
     "text": [
      "+---+--------------+\n",
      "|noc|       country|\n",
      "+---+--------------+\n",
      "|AFG|   Afghanistan|\n",
      "|ALB|       Albania|\n",
      "|ALG|       Algeria|\n",
      "|ASA|American Samoa|\n",
      "|AND|       Andorra|\n",
      "+---+--------------+\n",
      "only showing top 5 rows\n",
      "\n"
     ]
    }
   ],
   "source": [
    "df.show(5)"
   ]
  },
  {
   "cell_type": "code",
   "execution_count": 10,
   "id": "cd32d3ed",
   "metadata": {},
   "outputs": [
    {
     "data": {
      "text/plain": [
       "235"
      ]
     },
     "execution_count": 10,
     "metadata": {},
     "output_type": "execute_result"
    }
   ],
   "source": [
    "df.count()"
   ]
  },
  {
   "cell_type": "code",
   "execution_count": 11,
   "id": "2427fa9e",
   "metadata": {},
   "outputs": [],
   "source": [
    "df.write.mode(\"overwrite\").parquet(\"hdfs:///data/bronze/Olympics_Country_parquet\")"
   ]
  },
  {
   "cell_type": "code",
   "execution_count": null,
   "id": "100fd47e-01d6-45f2-b3c4-fe2de04ad38a",
   "metadata": {},
   "outputs": [],
   "source": []
  }
 ],
 "metadata": {
  "kernelspec": {
   "display_name": "Python 3 (ipykernel)",
   "language": "python",
   "name": "python3"
  },
  "language_info": {
   "codemirror_mode": {
    "name": "ipython",
    "version": 3
   },
   "file_extension": ".py",
   "mimetype": "text/x-python",
   "name": "python",
   "nbconvert_exporter": "python",
   "pygments_lexer": "ipython3",
   "version": "3.11.7"
  }
 },
 "nbformat": 4,
 "nbformat_minor": 5
}
