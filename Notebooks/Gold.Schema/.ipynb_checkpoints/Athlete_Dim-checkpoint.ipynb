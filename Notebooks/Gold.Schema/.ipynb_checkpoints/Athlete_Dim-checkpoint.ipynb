{
 "cells": [
  {
   "cell_type": "code",
   "execution_count": 12,
   "id": "438a4a5b-d3d9-4810-b834-d5bbe88d2755",
   "metadata": {},
   "outputs": [],
   "source": [
    "from pyspark.sql import SparkSession\n",
    "from pyspark.sql.functions import *"
   ]
  },
  {
   "cell_type": "code",
   "execution_count": 13,
   "id": "2e5b02d0-6e36-4c40-9ea0-97870290e6c3",
   "metadata": {},
   "outputs": [
    {
     "name": "stderr",
     "output_type": "stream",
     "text": [
      "25/04/07 18:09:13 WARN SparkSession: Using an existing Spark session; only runtime SQL configurations will take effect.\n"
     ]
    }
   ],
   "source": [
    "spark = SparkSession.builder \\\n",
    "    .appName(\"Athlete_Dim Gold\") \\\n",
    "    .config(\"spark.sql.warehouse.dir\", \"/user/hive/warehouse\") \\\n",
    "    .config(\"hive.metastore.uris\", \"thrift://localhost:9083\") \\\n",
    "    .enableHiveSupport() \\\n",
    "    .getOrCreate()"
   ]
  },
  {
   "cell_type": "code",
   "execution_count": 14,
   "id": "51bbc689-8e8d-4540-96bd-d07707b17deb",
   "metadata": {},
   "outputs": [
    {
     "data": {
      "text/plain": [
       "DataFrame[]"
      ]
     },
     "execution_count": 14,
     "metadata": {},
     "output_type": "execute_result"
    }
   ],
   "source": [
    "spark.sql(\"CREATE DATABASE IF NOT EXISTS gold\")"
   ]
  },
  {
   "cell_type": "code",
   "execution_count": 15,
   "id": "4fd9f081-9e48-4189-b8b8-a342e6517e7b",
   "metadata": {},
   "outputs": [
    {
     "data": {
      "text/plain": [
       "DataFrame[]"
      ]
     },
     "execution_count": 15,
     "metadata": {},
     "output_type": "execute_result"
    }
   ],
   "source": [
    "spark.sql(\"USE gold\")"
   ]
  },
  {
   "cell_type": "code",
   "execution_count": 16,
   "id": "eb75e206-cee0-40a0-9be2-1ba5d57ed59f",
   "metadata": {},
   "outputs": [],
   "source": [
    "hdfs_silver_path =\"hdfs:///data/silver/Athlete_parquet\"\n",
    "athlete = spark.read.parquet(hdfs_silver_path)"
   ]
  },
  {
   "cell_type": "code",
   "execution_count": 17,
   "id": "c68752b1-5ed9-4b6e-8678-9e53415f3c06",
   "metadata": {},
   "outputs": [
    {
     "name": "stdout",
     "output_type": "stream",
     "text": [
      "root\n",
      " |-- Athlete ID: integer (nullable = true)\n",
      " |-- Name: string (nullable = true)\n",
      " |-- Sex: integer (nullable = true)\n",
      " |-- Born: date (nullable = true)\n",
      " |-- Height: integer (nullable = true)\n",
      " |-- Weight: integer (nullable = true)\n",
      " |-- Nationality: string (nullable = true)\n",
      "\n"
     ]
    }
   ],
   "source": [
    "athlete.printSchema()"
   ]
  },
  {
   "cell_type": "code",
   "execution_count": 18,
   "id": "b543e97c-cb7d-43ea-a25d-2df13af61af0",
   "metadata": {},
   "outputs": [
    {
     "name": "stdout",
     "output_type": "stream",
     "text": [
      "+----------+-------------------+---+----------+------+------+--------------------+\n",
      "|Athlete ID|               Name|Sex|      Born|Height|Weight|         Nationality|\n",
      "+----------+-------------------+---+----------+------+------+--------------------+\n",
      "|    109014|     Lee Jeong-Seon|  1|1979-02-15|   177|    80|   Republic of Korea|\n",
      "|    110132|     Viktor Pfeifer|  1|1987-05-16|   182|    62|             Austria|\n",
      "|     31750|         Klaus Weiß|  1|1944-11-20|   192|    92|        East Germany|\n",
      "|    900058|    Gerhard Pöttler|  1|1963-08-17|   176|    71|             Austria|\n",
      "|    106765|  Oreidis Despaigne|  1|1981-09-20|   186|   100|                Cuba|\n",
      "|     52470|      Kiyoko Fukuda|  0|1970-08-04|   178|    67|               Japan|\n",
      "|     19750|        Sebo Ebbens|  1|1945-10-31|   186|    80|         Netherlands|\n",
      "|     69057|      Kevin Forster|  1|1958-09-27|   178|    61|       Great Britain|\n",
      "|    146786|Gabriel Gerald Geay|  1|1996-09-10|   176|    71| United Republic ...|\n",
      "|     53527|  Salvador Amendola|  1|1906-05-13|   176|    71|              Brazil|\n",
      "|     12501|        Henk Nooren|  1|1954-08-23|   176|    71|         Netherlands|\n",
      "|     96094|       Franz Ortner|  1|1905-11-12|   176|    71|             Austria|\n",
      "|     82185|        Ri Han-Soon|  0|1945-12-17|   157|    58| Democratic Peopl...|\n",
      "|    100033|   Yuliya Chepalova|  0|1976-12-23|   164|    54|  Russian Federation|\n",
      "|      2704|        Lotfi Joudi|  1|1963-08-11|   178|    66|             Tunisia|\n",
      "|     67555|      Erik Eriksson|  1|1897-06-12|   186|    83|             Finland|\n",
      "|     64080|      Stuart Walker|  1|1923-04-19|   170|    75|       United States|\n",
      "|    101245|  Tetiana Chuvaieva|  0|1983-04-14|   176|    71|             Ukraine|\n",
      "|    113204|      Damien Gaudin|  1|1986-08-20|   190|    80|              France|\n",
      "|     43390|  Gilbert Scorsolio|  1|1932-07-21|   170|    64|              Monaco|\n",
      "+----------+-------------------+---+----------+------+------+--------------------+\n",
      "only showing top 20 rows\n",
      "\n"
     ]
    }
   ],
   "source": [
    "athlete.show()"
   ]
  },
  {
   "cell_type": "code",
   "execution_count": 19,
   "id": "a2cf3064-6746-44ca-8728-79cda95707a0",
   "metadata": {},
   "outputs": [
    {
     "name": "stderr",
     "output_type": "stream",
     "text": [
      "                                                                                \r"
     ]
    }
   ],
   "source": [
    "athlete.write.format(\"hive\").mode(\"overwrite\").saveAsTable(\"gold.athlete\")"
   ]
  },
  {
   "cell_type": "code",
   "execution_count": 21,
   "id": "95d1194a-1713-40f6-aa41-3abbc36f3369",
   "metadata": {},
   "outputs": [
    {
     "name": "stderr",
     "output_type": "stream",
     "text": [
      "                                                                                \r"
     ]
    }
   ],
   "source": [
    "athlete.write.mode(\"overwrite\").parquet(\"hdfs:///data/gold/Athlete_parquet\")"
   ]
  },
  {
   "cell_type": "code",
   "execution_count": null,
   "id": "23d2d551-4c52-4278-9190-eb7e85a082d6",
   "metadata": {},
   "outputs": [],
   "source": []
  }
 ],
 "metadata": {
  "kernelspec": {
   "display_name": "Python 3 (ipykernel)",
   "language": "python",
   "name": "python3"
  },
  "language_info": {
   "codemirror_mode": {
    "name": "ipython",
    "version": 3
   },
   "file_extension": ".py",
   "mimetype": "text/x-python",
   "name": "python",
   "nbconvert_exporter": "python",
   "pygments_lexer": "ipython3",
   "version": "3.11.7"
  }
 },
 "nbformat": 4,
 "nbformat_minor": 5
}
