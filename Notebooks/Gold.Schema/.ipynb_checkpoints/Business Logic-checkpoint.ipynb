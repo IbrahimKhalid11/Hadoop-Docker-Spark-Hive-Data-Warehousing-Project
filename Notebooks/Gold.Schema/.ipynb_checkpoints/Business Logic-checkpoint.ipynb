{
 "cells": [
  {
   "cell_type": "code",
   "execution_count": 50,
   "id": "139f3a95-e341-4ca0-98d6-4d557263a461",
   "metadata": {},
   "outputs": [],
   "source": [
    "from pyspark.sql import SparkSession\n",
    "from pyspark.sql.functions import *"
   ]
  },
  {
   "cell_type": "code",
   "execution_count": 9,
   "id": "6526c580-ce8f-4410-a92c-4781b76deec1",
   "metadata": {},
   "outputs": [
    {
     "data": {
      "text/html": [
       "<style>pre { white-space: pre !important; }</style>"
      ],
      "text/plain": [
       "<IPython.core.display.HTML object>"
      ]
     },
     "metadata": {},
     "output_type": "display_data"
    }
   ],
   "source": [
    "from IPython.display import display, HTML\n",
    "display(HTML(\"<style>pre { white-space: pre !important; }</style>\"))"
   ]
  },
  {
   "cell_type": "code",
   "execution_count": 10,
   "id": "cc3ab295-e5f9-4fd2-a54e-7da93f0b3c77",
   "metadata": {},
   "outputs": [],
   "source": [
    "spark = SparkSession.builder \\\n",
    "    .appName(\"Business Logic\") \\\n",
    "    .enableHiveSupport() \\\n",
    "    .getOrCreate()"
   ]
  },
  {
   "cell_type": "code",
   "execution_count": 11,
   "id": "900e5609-b411-4e2f-9fa0-c1515f604618",
   "metadata": {},
   "outputs": [
    {
     "data": {
      "text/plain": [
       "DataFrame[]"
      ]
     },
     "execution_count": 11,
     "metadata": {},
     "output_type": "execute_result"
    }
   ],
   "source": [
    "spark.sql(\"CREATE DATABASE IF NOT EXISTS gold\")"
   ]
  },
  {
   "cell_type": "code",
   "execution_count": 12,
   "id": "7adf200a-921b-420d-a173-db3bec5b5c07",
   "metadata": {},
   "outputs": [
    {
     "data": {
      "text/plain": [
       "DataFrame[]"
      ]
     },
     "execution_count": 12,
     "metadata": {},
     "output_type": "execute_result"
    }
   ],
   "source": [
    "spark.sql(\"USE gold\")"
   ]
  },
  {
   "cell_type": "code",
   "execution_count": 13,
   "id": "f843a38c-be7b-4747-9955-71ceeef105e6",
   "metadata": {},
   "outputs": [
    {
     "name": "stderr",
     "output_type": "stream",
     "text": [
      "                                                                                \r"
     ]
    }
   ],
   "source": [
    "path =\"hdfs:///data/silver/Fact_Table_parquet\"\n",
    "df_fact = spark.read.parquet(path)"
   ]
  },
  {
   "cell_type": "code",
   "execution_count": 14,
   "id": "a754efb3-a7b6-4c75-aaca-8719f2afbf96",
   "metadata": {},
   "outputs": [
    {
     "name": "stdout",
     "output_type": "stream",
     "text": [
      "root\n",
      " |-- Edition ID: integer (nullable = true)\n",
      " |-- Country NOC: string (nullable = true)\n",
      " |-- Result ID: integer (nullable = true)\n",
      " |-- Athlete ID: integer (nullable = true)\n",
      " |-- Position: string (nullable = true)\n",
      " |-- Medal Athlete: string (nullable = true)\n",
      " |-- Gold Medals: integer (nullable = true)\n",
      " |-- Silver Medals: integer (nullable = true)\n",
      " |-- Bronze Medals: integer (nullable = true)\n",
      " |-- Total Medals: integer (nullable = true)\n",
      "\n"
     ]
    }
   ],
   "source": [
    "df_fact.printSchema()"
   ]
  },
  {
   "cell_type": "code",
   "execution_count": 15,
   "id": "eb041149-67de-43a4-bbb1-c67778a31a09",
   "metadata": {},
   "outputs": [
    {
     "name": "stderr",
     "output_type": "stream",
     "text": [
      "                                                                                \r"
     ]
    },
    {
     "name": "stdout",
     "output_type": "stream",
     "text": [
      "+----------+-----------+---------+----------+--------+-------------+-----------+-------------+-------------+------------+\n",
      "|Edition ID|Country NOC|Result ID|Athlete ID|Position|Medal Athlete|Gold Medals|Silver Medals|Bronze Medals|Total Medals|\n",
      "+----------+-----------+---------+----------+--------+-------------+-----------+-------------+-------------+------------+\n",
      "|        23|        KOR|    40745|      1971|       2|       Silver|         12|            5|           12|          29|\n",
      "|        23|        KOR|    40745|      1972|      15|     No Medal|         12|            5|           12|          29|\n",
      "|        23|        KOR|    40745|      1977|      20|     No Medal|         12|            5|           12|          29|\n",
      "|        23|        KOR|    40788|      1972|       5|     No Medal|         12|            5|           12|          29|\n",
      "|        23|        KOR|    40788|      1971|       5|     No Medal|         12|            5|           12|          29|\n",
      "+----------+-----------+---------+----------+--------+-------------+-----------+-------------+-------------+------------+\n",
      "only showing top 5 rows\n",
      "\n"
     ]
    }
   ],
   "source": [
    "df_fact.show(5)"
   ]
  },
  {
   "cell_type": "code",
   "execution_count": 16,
   "id": "5930a14b-8b17-4df6-9a88-bb3df8b8d339",
   "metadata": {},
   "outputs": [],
   "source": [
    "df_unique_results = df_fact.dropDuplicates([\"Country NOC\", \"Edition ID\"])"
   ]
  },
  {
   "cell_type": "code",
   "execution_count": 17,
   "id": "e35b2137-f4a4-4ed5-aea3-822c5e759443",
   "metadata": {},
   "outputs": [],
   "source": [
    "df_medals = df_unique_results.groupBy(\"Country NOC\", \"Edition ID\").agg(\n",
    "    sum(\"Gold Medals\").alias(\"total_gold\"),\n",
    "    sum(\"Silver Medals\").alias(\"total_silver\"),\n",
    "    sum(\"Bronze Medals\").alias(\"total_bronze\")\n",
    ")\n",
    "df_medals = df_medals.withColumn(\"total_medals\", expr(\"total_gold + total_silver + total_bronze\"))"
   ]
  },
  {
   "cell_type": "code",
   "execution_count": 18,
   "id": "78cf5ec7-94f0-4c94-bf98-dd47bb8db1ec",
   "metadata": {},
   "outputs": [
    {
     "name": "stderr",
     "output_type": "stream",
     "text": [
      "[Stage 4:>                                                          (0 + 1) / 1]\r"
     ]
    },
    {
     "name": "stdout",
     "output_type": "stream",
     "text": [
      "+-----------+----------+----------+------------+------------+------------+\n",
      "|Country NOC|Edition ID|total_gold|total_silver|total_bronze|total_medals|\n",
      "+-----------+----------+----------+------------+------------+------------+\n",
      "|        NED|        40|         1|           2|           3|           6|\n",
      "|        FRA|        41|         0|           0|           1|           1|\n",
      "|        URS|        17|        29|          32|          30|          91|\n",
      "|        ROU|        11|         0|           1|           0|           1|\n",
      "|        GBR|        29|         1|           1|           2|           4|\n",
      "+-----------+----------+----------+------------+------------+------------+\n",
      "only showing top 5 rows\n",
      "\n"
     ]
    },
    {
     "name": "stderr",
     "output_type": "stream",
     "text": [
      "                                                                                \r"
     ]
    }
   ],
   "source": [
    "df_medals.show(5)"
   ]
  },
  {
   "cell_type": "code",
   "execution_count": 19,
   "id": "c027a116-9f8b-4a51-a9db-491e28945e53",
   "metadata": {},
   "outputs": [
    {
     "data": {
      "text/plain": [
       "1785"
      ]
     },
     "execution_count": 19,
     "metadata": {},
     "output_type": "execute_result"
    }
   ],
   "source": [
    "df_medals.count()"
   ]
  },
  {
   "cell_type": "code",
   "execution_count": 20,
   "id": "7f31e72e-9ab4-40a9-b4db-3cdf03ab6ac4",
   "metadata": {},
   "outputs": [
    {
     "name": "stdout",
     "output_type": "stream",
     "text": [
      "root\n",
      " |-- Country NOC: string (nullable = true)\n",
      " |-- Edition ID: integer (nullable = true)\n",
      " |-- total_gold: long (nullable = true)\n",
      " |-- total_silver: long (nullable = true)\n",
      " |-- total_bronze: long (nullable = true)\n",
      " |-- total_medals: long (nullable = true)\n",
      "\n"
     ]
    }
   ],
   "source": [
    "df_medals.printSchema()"
   ]
  },
  {
   "cell_type": "code",
   "execution_count": 21,
   "id": "38906bd2-514f-402d-ab40-63b336106a03",
   "metadata": {},
   "outputs": [],
   "source": [
    "path =\"hdfs:///data/silver/Athlete_parquet\"\n",
    "df_athlete = spark.read.parquet(path)"
   ]
  },
  {
   "cell_type": "code",
   "execution_count": 22,
   "id": "dc928947-2e0d-4ee6-bc71-9a61b2d2667e",
   "metadata": {},
   "outputs": [
    {
     "name": "stdout",
     "output_type": "stream",
     "text": [
      "root\n",
      " |-- Athlete ID: integer (nullable = true)\n",
      " |-- Name: string (nullable = true)\n",
      " |-- Sex: integer (nullable = true)\n",
      " |-- Born: date (nullable = true)\n",
      " |-- Height: integer (nullable = true)\n",
      " |-- Weight: integer (nullable = true)\n",
      " |-- Nationality: string (nullable = true)\n",
      "\n"
     ]
    }
   ],
   "source": [
    "df_athlete.printSchema()"
   ]
  },
  {
   "cell_type": "code",
   "execution_count": 23,
   "id": "c68d9bbd-d2c7-49a7-8c5d-bf4919289d03",
   "metadata": {},
   "outputs": [],
   "source": [
    "df_athlete = df_athlete.select(\n",
    "    col(\"Athlete ID\").alias(\"bio_athlete_id\"),\n",
    "    \"Name\",\n",
    "    \"Sex\",\n",
    "    \"Born\",\n",
    "    \"Height\",\n",
    "    \"Weight\",\n",
    "    \"Nationality\"\n",
    ")"
   ]
  },
  {
   "cell_type": "code",
   "execution_count": 24,
   "id": "8f082f0a-cb44-4267-99d1-a6bc85ac1cbb",
   "metadata": {},
   "outputs": [],
   "source": [
    "df_athletes_with_medals = df_fact.join(df_athlete, df_fact[\"Athlete ID\"] == df_athlete[\"bio_athlete_id\"], \"left_outer\") "
   ]
  },
  {
   "cell_type": "code",
   "execution_count": 25,
   "id": "2c5b6ac5-f316-456d-ad86-80acac27c65e",
   "metadata": {},
   "outputs": [
    {
     "name": "stderr",
     "output_type": "stream",
     "text": [
      "                                                                                \r"
     ]
    },
    {
     "name": "stdout",
     "output_type": "stream",
     "text": [
      "+----------+-----------+---------+----------+--------+-------------+-----------+-------------+-------------+------------+--------------+--------------+---+----------+------+------+------------------+\n",
      "|Edition ID|Country NOC|Result ID|Athlete ID|Position|Medal Athlete|Gold Medals|Silver Medals|Bronze Medals|Total Medals|bio_athlete_id|          Name|Sex|      Born|Height|Weight|       Nationality|\n",
      "+----------+-----------+---------+----------+--------+-------------+-----------+-------------+-------------+------------+--------------+--------------+---+----------+------+------+------------------+\n",
      "|        23|        KOR|    40745|      1971|       2|       Silver|         12|            5|           12|          29|          1971|Jeong Jae-Heon|  1|1974-06-01|   176|    71| Republic of Korea|\n",
      "|        23|        KOR|    40745|      1972|      15|     No Medal|         12|            5|           12|          29|          1972| Han Seung-Hun|  1|1973-06-11|   171|    62| Republic of Korea|\n",
      "+----------+-----------+---------+----------+--------+-------------+-----------+-------------+-------------+------------+--------------+--------------+---+----------+------+------+------------------+\n",
      "only showing top 2 rows\n",
      "\n"
     ]
    }
   ],
   "source": [
    "df_athletes_with_medals.show(2)"
   ]
  },
  {
   "cell_type": "code",
   "execution_count": 26,
   "id": "b49419de-659c-4b2f-84b3-0f7041b64aab",
   "metadata": {},
   "outputs": [
    {
     "name": "stderr",
     "output_type": "stream",
     "text": [
      "[Stage 15:===========================================>              (3 + 1) / 4]\r"
     ]
    },
    {
     "name": "stdout",
     "output_type": "stream",
     "text": [
      "+-----------+----------+--------------+------------------+-----------------+-------------+---------------+\n",
      "|Country NOC|Edition ID|total_athletes|        avg_height|       avg_weight|male_athletes|female_athletes|\n",
      "+-----------+----------+--------------+------------------+-----------------+-------------+---------------+\n",
      "|        NED|        40|            26|178.26923076923077|73.15384615384616|           13|             13|\n",
      "|        FRA|        41|            44|171.52272727272728|64.95454545454545|           34|             10|\n",
      "|        URS|        17|           501| 175.3692614770459|72.00998003992017|          368|            133|\n",
      "|        ROU|        11|           128|         176.03125|           71.125|          126|              2|\n",
      "|        GBR|        29|            87|176.73684210526315|71.63157894736842|           72|              4|\n",
      "+-----------+----------+--------------+------------------+-----------------+-------------+---------------+\n",
      "only showing top 5 rows\n",
      "\n"
     ]
    },
    {
     "name": "stderr",
     "output_type": "stream",
     "text": [
      "                                                                                \r"
     ]
    }
   ],
   "source": [
    "df_stats =df_athletes_with_medals.groupBy(\"Country NOC\", \"Edition ID\").agg(\n",
    "    count(\"Athlete ID\").alias(\"total_athletes\"), \n",
    "    avg(\"Height\").alias(\"avg_height\"), \n",
    "    avg(\"Weight\").alias(\"avg_weight\"),  \n",
    "    sum(when(df_athlete[\"Sex\"] == 1, 1).otherwise(0)).alias(\"male_athletes\"), \n",
    "    sum(when(df_athlete[\"Sex\"] == 0, 1).otherwise(0)).alias(\"female_athletes\")\n",
    ")\n",
    "df_stats.show(5)"
   ]
  },
  {
   "cell_type": "code",
   "execution_count": 27,
   "id": "5f35537b-0496-4c6b-bc29-a2852b17021e",
   "metadata": {},
   "outputs": [],
   "source": [
    "df_stats = df_stats.select(\n",
    "    col(\"Country NOC\").alias(\"NOC\"),\n",
    "    col(\"Edition ID\").alias(\"edition_id\"),\n",
    "    \"total_athletes\",\n",
    "    \"avg_height\",\n",
    "    \"avg_weight\",\n",
    "    \"male_athletes\",\n",
    "    \"female_athletes\"\n",
    ")"
   ]
  },
  {
   "cell_type": "code",
   "execution_count": 28,
   "id": "50bdee6a-c10f-4068-b963-d14811408591",
   "metadata": {},
   "outputs": [],
   "source": [
    "df_stats_with_medals = df_stats.join(df_medals, (df_stats[\"edition_id\"] == df_medals[\"Edition ID\"]) & (df_stats[\"NOC\"] == df_medals[\"Country NOC\"])) "
   ]
  },
  {
   "cell_type": "code",
   "execution_count": 29,
   "id": "1dd110c6-aeb7-4b2e-8a41-b16d1f4ae788",
   "metadata": {},
   "outputs": [
    {
     "name": "stdout",
     "output_type": "stream",
     "text": [
      "root\n",
      " |-- NOC: string (nullable = true)\n",
      " |-- edition_id: integer (nullable = true)\n",
      " |-- total_athletes: long (nullable = false)\n",
      " |-- avg_height: double (nullable = true)\n",
      " |-- avg_weight: double (nullable = true)\n",
      " |-- male_athletes: long (nullable = true)\n",
      " |-- female_athletes: long (nullable = true)\n",
      " |-- Country NOC: string (nullable = true)\n",
      " |-- Edition ID: integer (nullable = true)\n",
      " |-- total_gold: long (nullable = true)\n",
      " |-- total_silver: long (nullable = true)\n",
      " |-- total_bronze: long (nullable = true)\n",
      " |-- total_medals: long (nullable = true)\n",
      "\n"
     ]
    }
   ],
   "source": [
    "df_stats_with_medals.printSchema()"
   ]
  },
  {
   "cell_type": "code",
   "execution_count": 30,
   "id": "03488629-58f1-40de-a431-8750439d9acf",
   "metadata": {},
   "outputs": [],
   "source": [
    "path =\"hdfs:///data/silver/OlympicsCountry_parquet\"\n",
    "df_country = spark.read.parquet(path)"
   ]
  },
  {
   "cell_type": "code",
   "execution_count": 31,
   "id": "da4902f1-95b5-4e5e-9d17-9ed6c97de53a",
   "metadata": {},
   "outputs": [
    {
     "data": {
      "text/plain": [
       "['noc', 'country']"
      ]
     },
     "execution_count": 31,
     "metadata": {},
     "output_type": "execute_result"
    }
   ],
   "source": [
    "df_country.columns"
   ]
  },
  {
   "cell_type": "code",
   "execution_count": 32,
   "id": "41fff8d7-80e1-40b6-a85e-fda270765d45",
   "metadata": {},
   "outputs": [],
   "source": [
    "df_stats_with_medals_participating_cnt = df_stats_with_medals.join(df_country, (df_stats_with_medals[\"NOC\"] == df_country[\"noc\"])) "
   ]
  },
  {
   "cell_type": "code",
   "execution_count": 33,
   "id": "8227d398-81a1-4517-8e81-65e9cc1e9578",
   "metadata": {},
   "outputs": [
    {
     "data": {
      "text/plain": [
       "['NOC',\n",
       " 'edition_id',\n",
       " 'total_athletes',\n",
       " 'avg_height',\n",
       " 'avg_weight',\n",
       " 'male_athletes',\n",
       " 'female_athletes',\n",
       " 'Country NOC',\n",
       " 'Edition ID',\n",
       " 'total_gold',\n",
       " 'total_silver',\n",
       " 'total_bronze',\n",
       " 'total_medals',\n",
       " 'noc',\n",
       " 'country']"
      ]
     },
     "execution_count": 33,
     "metadata": {},
     "output_type": "execute_result"
    }
   ],
   "source": [
    "df_stats_with_medals_participating_cnt.columns"
   ]
  },
  {
   "cell_type": "code",
   "execution_count": 34,
   "id": "2871f8e0-42f7-46d0-a356-9ee3b6c1d45f",
   "metadata": {},
   "outputs": [],
   "source": [
    "path =\"hdfs:///data/silver/OlympicsGames_parquet\"\n",
    "df_games = spark.read.parquet(path)"
   ]
  },
  {
   "cell_type": "code",
   "execution_count": 35,
   "id": "57447411-aeb3-4b63-988a-98e7ef1509af",
   "metadata": {},
   "outputs": [
    {
     "name": "stdout",
     "output_type": "stream",
     "text": [
      "root\n",
      " |-- Edition ID: integer (nullable = true)\n",
      " |-- Edition Name: string (nullable = true)\n",
      " |-- Edition URL: string (nullable = true)\n",
      " |-- Flag URL: string (nullable = true)\n",
      " |-- Host City: string (nullable = true)\n",
      " |-- Host Country: string (nullable = true)\n",
      "\n"
     ]
    }
   ],
   "source": [
    "df_games.printSchema()"
   ]
  },
  {
   "cell_type": "code",
   "execution_count": 36,
   "id": "b5bd8512-3423-4fe9-91c0-c78bf02e10b5",
   "metadata": {},
   "outputs": [],
   "source": [
    "df_games = df_games.withColumnRenamed(\"Edition ID\", \"id\")"
   ]
  },
  {
   "cell_type": "code",
   "execution_count": 37,
   "id": "d4e4ba8e-375d-492b-b1cd-4d152fc2e9ae",
   "metadata": {},
   "outputs": [],
   "source": [
    "df_final = df_stats_with_medals_participating_cnt.join(df_games, (df_stats_with_medals_participating_cnt[\"edition_id\"] == df_games[\"id\"])) "
   ]
  },
  {
   "cell_type": "code",
   "execution_count": 38,
   "id": "d75dd766-6fff-4b55-9e5a-e1ce58ea47d8",
   "metadata": {},
   "outputs": [
    {
     "name": "stdout",
     "output_type": "stream",
     "text": [
      "root\n",
      " |-- NOC: string (nullable = true)\n",
      " |-- edition_id: integer (nullable = true)\n",
      " |-- total_athletes: long (nullable = false)\n",
      " |-- avg_height: double (nullable = true)\n",
      " |-- avg_weight: double (nullable = true)\n",
      " |-- male_athletes: long (nullable = true)\n",
      " |-- female_athletes: long (nullable = true)\n",
      " |-- Country NOC: string (nullable = true)\n",
      " |-- Edition ID: integer (nullable = true)\n",
      " |-- total_gold: long (nullable = true)\n",
      " |-- total_silver: long (nullable = true)\n",
      " |-- total_bronze: long (nullable = true)\n",
      " |-- total_medals: long (nullable = true)\n",
      " |-- noc: string (nullable = true)\n",
      " |-- country: string (nullable = true)\n",
      " |-- id: integer (nullable = true)\n",
      " |-- Edition Name: string (nullable = true)\n",
      " |-- Edition URL: string (nullable = true)\n",
      " |-- Flag URL: string (nullable = true)\n",
      " |-- Host City: string (nullable = true)\n",
      " |-- Host Country: string (nullable = true)\n",
      "\n"
     ]
    }
   ],
   "source": [
    "df_final.printSchema()"
   ]
  },
  {
   "cell_type": "code",
   "execution_count": 39,
   "id": "1570b49b-b2a6-467e-bbda-7a15cf1a8b42",
   "metadata": {},
   "outputs": [],
   "source": [
    "path =\"hdfs:///data/silver/Date_parquet\"\n",
    "df_date = spark.read.parquet(path)"
   ]
  },
  {
   "cell_type": "code",
   "execution_count": 40,
   "id": "d24286dd-94b2-435e-9779-303035007fda",
   "metadata": {},
   "outputs": [
    {
     "name": "stdout",
     "output_type": "stream",
     "text": [
      "root\n",
      " |-- Date_id: integer (nullable = true)\n",
      " |-- year: integer (nullable = true)\n",
      " |-- start_day_date: integer (nullable = true)\n",
      " |-- start_month_date: integer (nullable = true)\n",
      " |-- end_day_date: integer (nullable = true)\n",
      " |-- end_month_date: integer (nullable = true)\n",
      "\n"
     ]
    }
   ],
   "source": [
    "df_date.printSchema()"
   ]
  },
  {
   "cell_type": "code",
   "execution_count": 41,
   "id": "7a51b83f-831b-4474-924a-fc82e8b2a551",
   "metadata": {},
   "outputs": [],
   "source": [
    "df_final_with_date = df_final.join(df_date, (df_final[\"edition_id\"] == df_date[\"Date_id\"])) "
   ]
  },
  {
   "cell_type": "code",
   "execution_count": 42,
   "id": "8209c513-ba2c-4c6f-81dc-e15142d63e4f",
   "metadata": {},
   "outputs": [],
   "source": [
    "df_final_with_date = df_final_with_date.select(\n",
    "    col(\"edition_id\").alias(\"EditionID\"),\n",
    "    col(\"Edition Name\").alias(\"EditionName\"),\n",
    "    col(\"Flag URL\").alias(\"FlagURL\"),\n",
    "    col(\"Host Country\").alias(\"HostCountry\"),\n",
    "    col(\"Host City\").alias(\"HostCity\"),\n",
    "    col(\"country\").alias(\"ParticipateCountry\"),\n",
    "    col(\"year\").alias(\"Year\"),\n",
    "    col(\"avg_height\").alias(\"AverageHeight\"),\n",
    "    col(\"avg_weight\").alias(\"AverageWeight\"),\n",
    "    col(\"male_athletes\").alias(\"MaleAthletes\"),\n",
    "    col(\"female_athletes\").alias(\"FemaleAthletes\"),\n",
    "    col(\"total_athletes\").alias(\"TotalAthletes\"),\n",
    "    col(\"total_gold\").alias(\"TotalGold\"),\n",
    "    col(\"total_silver\").alias(\"TotalSilver\"),\n",
    "    col(\"total_bronze\").alias(\"TotalBronze\"),\n",
    "    col(\"total_medals\").alias(\"TotalMedals\")\n",
    ")"
   ]
  },
  {
   "cell_type": "code",
   "execution_count": 43,
   "id": "02790c26-d930-42c6-99f3-37e2f3f6f1ce",
   "metadata": {},
   "outputs": [
    {
     "name": "stderr",
     "output_type": "stream",
     "text": [
      "                                                                                \r"
     ]
    },
    {
     "name": "stdout",
     "output_type": "stream",
     "text": [
      "+---------+--------------------+--------------------+-------------+----------------+------------------+----+------------------+-----------------+------------+--------------+-------------+---------+-----------+-----------+-----------+\n",
      "|EditionID|         EditionName|             FlagURL|  HostCountry|        HostCity|ParticipateCountry|Year|     AverageHeight|    AverageWeight|MaleAthletes|FemaleAthletes|TotalAthletes|TotalGold|TotalSilver|TotalBronze|TotalMedals|\n",
      "+---------+--------------------+--------------------+-------------+----------------+------------------+----+------------------+-----------------+------------+--------------+-------------+---------+-----------+-----------+-----------+\n",
      "|       40|1976 Winter Olympics|https://olympedia...|      Austria|       Innsbruck|       Netherlands|1976|178.26923076923077|73.15384615384616|          13|            13|           26|        1|          2|          3|          6|\n",
      "|       41|1980 Winter Olympics|https://olympedia...|United States|     Lake Placid|            France|1980|171.52272727272728|64.95454545454545|          34|            10|           44|        0|          0|          1|          1|\n",
      "|       17|1968 Summer Olympics|https://olympedia...|       Mexico|Ciudad de México|      Soviet Union|1968| 175.3692614770459|72.00998003992017|         368|           133|          501|       29|         32|         30|         91|\n",
      "|       11|1936 Summer Olympics|https://olympedia...|      Germany|          Berlin|           Romania|1936|         176.03125|           71.125|         126|             2|          128|        0|          1|          0|          1|\n",
      "|       29|1924 Winter Olympics|https://olympedia...|       France|        Chamonix|     Great Britain|1924|176.73684210526315|71.63157894736842|          72|             4|           87|        1|          1|          2|          4|\n",
      "+---------+--------------------+--------------------+-------------+----------------+------------------+----+------------------+-----------------+------------+--------------+-------------+---------+-----------+-----------+-----------+\n",
      "only showing top 5 rows\n",
      "\n"
     ]
    }
   ],
   "source": [
    "df_final_with_date.show(5)"
   ]
  },
  {
   "cell_type": "code",
   "execution_count": 45,
   "id": "94647372-e0a0-4a27-9277-51eaecf66fe2",
   "metadata": {},
   "outputs": [
    {
     "name": "stderr",
     "output_type": "stream",
     "text": [
      "                                                                                \r"
     ]
    }
   ],
   "source": [
    "df_final_with_date.write.mode(\"overwrite\").parquet(\"hdfs:///data/gold/BusinessLogic_Parquet\")"
   ]
  },
  {
   "cell_type": "code",
   "execution_count": 46,
   "id": "d01cd719-4e5d-471f-85fd-bac249ac708f",
   "metadata": {},
   "outputs": [],
   "source": [
    "path =\"hdfs:///data/gold/BusinessLogic_Parquet\"\n",
    "df_fact = spark.read.parquet(path)"
   ]
  },
  {
   "cell_type": "code",
   "execution_count": 47,
   "id": "86c14e21-7968-4403-9a9a-1b0e1b5cb99c",
   "metadata": {},
   "outputs": [
    {
     "name": "stdout",
     "output_type": "stream",
     "text": [
      "+---------+--------------------+--------------------+-------------+----------------+------------------+----+------------------+-----------------+------------+--------------+-------------+---------+-----------+-----------+-----------+\n",
      "|EditionID|         EditionName|             FlagURL|  HostCountry|        HostCity|ParticipateCountry|Year|     AverageHeight|    AverageWeight|MaleAthletes|FemaleAthletes|TotalAthletes|TotalGold|TotalSilver|TotalBronze|TotalMedals|\n",
      "+---------+--------------------+--------------------+-------------+----------------+------------------+----+------------------+-----------------+------------+--------------+-------------+---------+-----------+-----------+-----------+\n",
      "|       40|1976 Winter Olympics|https://olympedia...|      Austria|       Innsbruck|       Netherlands|1976|178.26923076923077|73.15384615384616|          13|            13|           26|        1|          2|          3|          6|\n",
      "|       41|1980 Winter Olympics|https://olympedia...|United States|     Lake Placid|            France|1980|171.52272727272728|64.95454545454545|          34|            10|           44|        0|          0|          1|          1|\n",
      "|       17|1968 Summer Olympics|https://olympedia...|       Mexico|Ciudad de México|      Soviet Union|1968| 175.3692614770459|72.00998003992017|         368|           133|          501|       29|         32|         30|         91|\n",
      "|       11|1936 Summer Olympics|https://olympedia...|      Germany|          Berlin|           Romania|1936|         176.03125|           71.125|         126|             2|          128|        0|          1|          0|          1|\n",
      "|       29|1924 Winter Olympics|https://olympedia...|       France|        Chamonix|     Great Britain|1924|176.73684210526315|71.63157894736842|          72|             4|           87|        1|          1|          2|          4|\n",
      "+---------+--------------------+--------------------+-------------+----------------+------------------+----+------------------+-----------------+------------+--------------+-------------+---------+-----------+-----------+-----------+\n",
      "only showing top 5 rows\n",
      "\n"
     ]
    }
   ],
   "source": [
    "df_fact.show(5)"
   ]
  },
  {
   "cell_type": "code",
   "execution_count": null,
   "id": "40adfd0f-1e22-4bc9-8f88-1dbce165d278",
   "metadata": {},
   "outputs": [],
   "source": [
    "# df_final.write.format(\"hive\").mode(\"overwrite\").saveAsTable(\"gold.BusinessLogic\")"
   ]
  },
  {
   "cell_type": "code",
   "execution_count": 48,
   "id": "42b6ec82-9794-41bc-af29-94627f446165",
   "metadata": {},
   "outputs": [
    {
     "data": {
      "text/plain": [
       "DataFrame[]"
      ]
     },
     "execution_count": 48,
     "metadata": {},
     "output_type": "execute_result"
    }
   ],
   "source": [
    "spark.sql(\"drop table gold.BusinessLogic;\")"
   ]
  },
  {
   "cell_type": "code",
   "execution_count": 49,
   "id": "96ad2b9f-4bd3-4bb4-bedd-2cd31f2ce090",
   "metadata": {},
   "outputs": [
    {
     "name": "stderr",
     "output_type": "stream",
     "text": [
      "25/04/09 01:08:51 WARN SessionState: METASTORE_FILTER_HOOK will be ignored, since hive.security.authorization.manager is set to instance of HiveAuthorizerFactory.\n"
     ]
    },
    {
     "data": {
      "text/plain": [
       "DataFrame[]"
      ]
     },
     "execution_count": 49,
     "metadata": {},
     "output_type": "execute_result"
    }
   ],
   "source": [
    "spark.sql(\"\"\"\n",
    "CREATE TABLE gold.BusinessLogic (\n",
    "  EditionID INT,\n",
    "  EditionName STRING,\n",
    "  FlagURL STRING,\n",
    "  HostCountry STRING,\n",
    "  HostCity STRING,\n",
    "  ParticipateCountry STRING,\n",
    "  Year INT,\n",
    "  AverageHeight DOUBLE,\n",
    "  AverageWeight DOUBLE,\n",
    "  MaleAthletes INT,\n",
    "  FemaleAthletes INT,\n",
    "  TotalAthletes INT,\n",
    "  TotalGold INT,\n",
    "  TotalSilver INT,\n",
    "  TotalBronze INT,\n",
    "  TotalMedals INT\n",
    ")\n",
    "STORED AS PARQUET\n",
    "LOCATION 'hdfs:///data/gold/BusinessLogic_Parquet';\n",
    "\"\"\")\n"
   ]
  },
  {
   "cell_type": "code",
   "execution_count": null,
   "id": "0b36db00-57c8-4c38-8625-223c091f1558",
   "metadata": {},
   "outputs": [],
   "source": []
  }
 ],
 "metadata": {
  "kernelspec": {
   "display_name": "Python 3 (ipykernel)",
   "language": "python",
   "name": "python3"
  },
  "language_info": {
   "codemirror_mode": {
    "name": "ipython",
    "version": 3
   },
   "file_extension": ".py",
   "mimetype": "text/x-python",
   "name": "python",
   "nbconvert_exporter": "python",
   "pygments_lexer": "ipython3",
   "version": "3.11.7"
  }
 },
 "nbformat": 4,
 "nbformat_minor": 5
}
