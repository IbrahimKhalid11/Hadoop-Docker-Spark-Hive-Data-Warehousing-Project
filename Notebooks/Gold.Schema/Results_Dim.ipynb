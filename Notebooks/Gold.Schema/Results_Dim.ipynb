{
 "cells": [
  {
   "cell_type": "code",
   "execution_count": 1,
   "id": "3c732d33-c243-46dd-a513-ec9a3287f4ee",
   "metadata": {},
   "outputs": [],
   "source": [
    "from pyspark.sql import SparkSession\n",
    "from pyspark.sql.functions import *\n",
    "import warnings\n",
    "warnings.filterwarnings(\"ignore\")"
   ]
  },
  {
   "cell_type": "code",
   "execution_count": null,
   "id": "a5214067-d0d6-4878-ba90-c003db8b6ae8",
   "metadata": {},
   "outputs": [],
   "source": [
    "spark = SparkSession.builder \\\n",
    "    .appName(\"OlympicResults_Dim Gold\") \\\n",
    "    .enableHiveSupport() \\\n",
    "    .getOrCreate()"
   ]
  },
  {
   "cell_type": "code",
   "execution_count": 5,
   "id": "745029cd-0ca5-4b06-b9bd-16803abbde20",
   "metadata": {},
   "outputs": [
    {
     "data": {
      "text/plain": [
       "DataFrame[]"
      ]
     },
     "execution_count": 5,
     "metadata": {},
     "output_type": "execute_result"
    }
   ],
   "source": [
    "spark.sql(\"CREATE DATABASE IF NOT EXISTS gold\")"
   ]
  },
  {
   "cell_type": "code",
   "execution_count": 6,
   "id": "157f9074-7950-49ad-ac40-705d182ee382",
   "metadata": {},
   "outputs": [
    {
     "data": {
      "text/plain": [
       "DataFrame[]"
      ]
     },
     "execution_count": 6,
     "metadata": {},
     "output_type": "execute_result"
    }
   ],
   "source": [
    "spark.sql(\"USE gold\")"
   ]
  },
  {
   "cell_type": "code",
   "execution_count": 7,
   "id": "c8694240-4417-4bb7-8b91-9b9b50958a91",
   "metadata": {},
   "outputs": [
    {
     "name": "stderr",
     "output_type": "stream",
     "text": [
      "                                                                                \r"
     ]
    }
   ],
   "source": [
    "hdfs_silver_path =\"hdfs:///data/silver/OlympicResults_parquet\"\n",
    "results = spark.read.parquet(hdfs_silver_path)"
   ]
  },
  {
   "cell_type": "code",
   "execution_count": 8,
   "id": "56d6c83a-f30e-4e7c-918c-3c8be08050db",
   "metadata": {},
   "outputs": [
    {
     "name": "stdout",
     "output_type": "stream",
     "text": [
      "root\n",
      " |-- Result ID: integer (nullable = true)\n",
      " |-- Event Title: string (nullable = true)\n",
      " |-- Event Name: string (nullable = true)\n",
      " |-- Sport: string (nullable = true)\n",
      " |-- Sport URL: string (nullable = true)\n",
      " |-- Result Date: date (nullable = true)\n",
      " |-- Result Location: string (nullable = true)\n",
      " |-- Result Participants: string (nullable = true)\n",
      " |-- Result Format: string (nullable = true)\n",
      " |-- Result Detail: string (nullable = true)\n",
      " |-- Result Description: string (nullable = true)\n",
      " |-- Is Team Sport: boolean (nullable = true)\n",
      "\n"
     ]
    }
   ],
   "source": [
    "results.printSchema()"
   ]
  },
  {
   "cell_type": "code",
   "execution_count": 9,
   "id": "64ac8785-d9a0-4040-a9e5-843739c19850",
   "metadata": {},
   "outputs": [
    {
     "name": "stderr",
     "output_type": "stream",
     "text": [
      "                                                                                \r"
     ]
    },
    {
     "name": "stdout",
     "output_type": "stream",
     "text": [
      "+---------+--------------------+--------------------+-------------+--------------------+-----------+--------------------+--------------------+--------------------+--------------------+--------------------+-------------+\n",
      "|Result ID|         Event Title|          Event Name|        Sport|           Sport URL|Result Date|     Result Location| Result Participants|       Result Format|       Result Detail|  Result Description|Is Team Sport|\n",
      "+---------+--------------------+--------------------+-------------+--------------------+-----------+--------------------+--------------------+--------------------+--------------------+--------------------+-------------+\n",
      "|    30359|Super-Heavyweight...|Super-Heavyweight...|Weightlifting|/editions/26/spor...| 2004-08-25|Olympiako Gymnast...|17 from 15 countries|Total of best lif...|                  na|Not so much a com...|        false|\n",
      "|     1626|Giant Slalom, Women1| Giant Slalom, Women| Snowboarding|/editions/46/spor...| 1998-02-09|Mt. Yakebitai, Sh...|31 from 14 countries|Two runs, total t...|Gates: 38 / 36Len...|The women’s giant...|        false|\n",
      "|       76|        Singles, Men|        Singles, Men|         Luge|/editions/40/spor...| 1976-02-07|Kunsteis-Bob- und...|43 from 15 countries|Four runs, total ...|Curves: 14Length:...|Once more, the co...|        false|\n",
      "|      962|   1,500 metres, Men|   1,500 metres, Men|Speed Skating|/editions/30/spor...| 1928-02-14|Olympia-Eisstadio...|30 from 14 countries|                  na|                  na|There was little ...|        false|\n",
      "|   258824|Canadian Singles,...|Canadian Singles,...| Canoe Slalom|/editions/53/spor...| 2008-08-12|Shunyi Aolinpike ...|16 from 16 countries|                  na|                  na|Two former Olympi...|        false|\n",
      "+---------+--------------------+--------------------+-------------+--------------------+-----------+--------------------+--------------------+--------------------+--------------------+--------------------+-------------+\n",
      "only showing top 5 rows\n",
      "\n"
     ]
    }
   ],
   "source": [
    "results.show(5)"
   ]
  },
  {
   "cell_type": "code",
   "execution_count": null,
   "id": "e589f192-f334-49e8-86e1-9ab0e6086ad4",
   "metadata": {},
   "outputs": [
    {
     "name": "stderr",
     "output_type": "stream",
     "text": [
      "25/04/07 18:59:01 WARN SessionState: METASTORE_FILTER_HOOK will be ignored, since hive.security.authorization.manager is set to instance of HiveAuthorizerFactory.\n",
      "                                                                                \r"
     ]
    }
   ],
   "source": [
    "results.write.format(\"hive\").mode(\"overwrite\").saveAsTable(\"gold.Results_Dim\")"
   ]
  },
  {
   "cell_type": "code",
   "execution_count": 11,
   "id": "fd04f63f-68f1-4acb-b065-52f42af31fd9",
   "metadata": {},
   "outputs": [
    {
     "name": "stderr",
     "output_type": "stream",
     "text": [
      "                                                                                \r"
     ]
    }
   ],
   "source": [
    "results.write.mode(\"overwrite\").parquet(\"hdfs:///data/gold/OlympicResults_parquet\")\n"
   ]
  },
  {
   "cell_type": "code",
   "execution_count": null,
   "id": "d608f07d-3c4f-40eb-adc3-cd59aff90ccd",
   "metadata": {},
   "outputs": [],
   "source": []
  }
 ],
 "metadata": {
  "kernelspec": {
   "display_name": "Python 3 (ipykernel)",
   "language": "python",
   "name": "python3"
  },
  "language_info": {
   "codemirror_mode": {
    "name": "ipython",
    "version": 3
   },
   "file_extension": ".py",
   "mimetype": "text/x-python",
   "name": "python",
   "nbconvert_exporter": "python",
   "pygments_lexer": "ipython3",
   "version": "3.11.7"
  }
 },
 "nbformat": 4,
 "nbformat_minor": 5
}
