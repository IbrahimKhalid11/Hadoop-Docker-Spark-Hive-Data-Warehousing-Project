{
 "cells": [
  {
   "cell_type": "code",
   "execution_count": 1,
   "id": "1d8f9319-0e8b-409a-a37b-6ad5a6595f7a",
   "metadata": {},
   "outputs": [],
   "source": [
    "from pyspark.sql import SparkSession\n",
    "from pyspark.sql.functions import *"
   ]
  },
  {
   "cell_type": "code",
   "execution_count": null,
   "id": "9dd3477a-a6c3-4d6c-8a43-5eba0d6be9f1",
   "metadata": {},
   "outputs": [
    {
     "name": "stderr",
     "output_type": "stream",
     "text": [
      "25/04/07 18:19:13 WARN SparkSession: Using an existing Spark session; only runtime SQL configurations will take effect.\n"
     ]
    }
   ],
   "source": [
    "spark = SparkSession.builder \\\n",
    "    .appName(\"Athlete_Dim Gold\") \\\n",
    "    .enableHiveSupport() \\\n",
    "    .getOrCreate()"
   ]
  },
  {
   "cell_type": "code",
   "execution_count": 3,
   "id": "67d18dc7-f5fd-4fab-921e-868674731dbe",
   "metadata": {},
   "outputs": [
    {
     "name": "stderr",
     "output_type": "stream",
     "text": [
      "                                                                                \r"
     ]
    }
   ],
   "source": [
    "hdfs_silver_path =\"hdfs:///data/silver/Date_parquet\"\n",
    "Date = spark.read.parquet(hdfs_silver_path)"
   ]
  },
  {
   "cell_type": "code",
   "execution_count": 4,
   "id": "b9c6c354-b66f-4632-b27f-53c9f5421160",
   "metadata": {},
   "outputs": [
    {
     "name": "stderr",
     "output_type": "stream",
     "text": [
      "25/04/07 18:19:23 WARN HiveConf: HiveConf of name hive.metastore.db.type does not exist\n"
     ]
    },
    {
     "data": {
      "text/plain": [
       "DataFrame[]"
      ]
     },
     "execution_count": 4,
     "metadata": {},
     "output_type": "execute_result"
    }
   ],
   "source": [
    "spark.sql(\"CREATE DATABASE IF NOT EXISTS gold\")"
   ]
  },
  {
   "cell_type": "code",
   "execution_count": 5,
   "id": "004a11d0-2c79-4c0c-89e5-53a0ae228ce9",
   "metadata": {},
   "outputs": [
    {
     "data": {
      "text/plain": [
       "DataFrame[]"
      ]
     },
     "execution_count": 5,
     "metadata": {},
     "output_type": "execute_result"
    }
   ],
   "source": [
    "spark.sql(\"USE gold\")"
   ]
  },
  {
   "cell_type": "code",
   "execution_count": 6,
   "id": "752a5da1-236c-4172-9942-cb2fbaf32bd4",
   "metadata": {},
   "outputs": [
    {
     "name": "stdout",
     "output_type": "stream",
     "text": [
      "root\n",
      " |-- Date_id: integer (nullable = true)\n",
      " |-- year: integer (nullable = true)\n",
      " |-- start_day_date: integer (nullable = true)\n",
      " |-- start_month_date: integer (nullable = true)\n",
      " |-- end_day_date: integer (nullable = true)\n",
      " |-- end_month_date: integer (nullable = true)\n",
      "\n"
     ]
    }
   ],
   "source": [
    "Date.printSchema()"
   ]
  },
  {
   "cell_type": "code",
   "execution_count": null,
   "id": "b7ecde45-34cc-4ecf-a429-319237d8b7f7",
   "metadata": {},
   "outputs": [
    {
     "name": "stderr",
     "output_type": "stream",
     "text": [
      "25/04/07 18:19:37 WARN SessionState: METASTORE_FILTER_HOOK will be ignored, since hive.security.authorization.manager is set to instance of HiveAuthorizerFactory.\n",
      "                                                                                \r"
     ]
    }
   ],
   "source": [
    "Date.write.format(\"hive\").mode(\"overwrite\").saveAsTable(\"gold.Date_Dim\")"
   ]
  },
  {
   "cell_type": "code",
   "execution_count": 11,
   "id": "8bb79c19-61e0-4486-a5ce-82f29fda04ba",
   "metadata": {},
   "outputs": [],
   "source": [
    "Date.write.mode(\"overwrite\").parquet(\"hdfs:///data/gold/Date_parquet\")"
   ]
  },
  {
   "cell_type": "code",
   "execution_count": null,
   "id": "17f35929-b667-4d65-80e3-1bc89dba6372",
   "metadata": {},
   "outputs": [],
   "source": []
  },
  {
   "cell_type": "code",
   "execution_count": null,
   "id": "0963fa53-b09c-45f4-a812-fbd4ad90edf1",
   "metadata": {},
   "outputs": [],
   "source": []
  }
 ],
 "metadata": {
  "kernelspec": {
   "display_name": "Python 3 (ipykernel)",
   "language": "python",
   "name": "python3"
  },
  "language_info": {
   "codemirror_mode": {
    "name": "ipython",
    "version": 3
   },
   "file_extension": ".py",
   "mimetype": "text/x-python",
   "name": "python",
   "nbconvert_exporter": "python",
   "pygments_lexer": "ipython3",
   "version": "3.11.7"
  }
 },
 "nbformat": 4,
 "nbformat_minor": 5
}
