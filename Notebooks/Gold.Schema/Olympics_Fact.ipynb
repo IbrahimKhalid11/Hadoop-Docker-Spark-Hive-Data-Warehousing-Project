{
 "cells": [
  {
   "cell_type": "code",
   "execution_count": 1,
   "id": "f5498148-bfa2-4cfb-8835-ad44c10b288a",
   "metadata": {},
   "outputs": [],
   "source": [
    "from pyspark.sql import SparkSession\n",
    "from pyspark.sql.functions import *\n",
    "import warnings\n",
    "warnings.filterwarnings(\"ignore\")"
   ]
  },
  {
   "cell_type": "code",
   "execution_count": null,
   "id": "eb874720-48d8-4c51-bd1f-b964b340dce6",
   "metadata": {},
   "outputs": [
    {
     "name": "stderr",
     "output_type": "stream",
     "text": [
      "25/04/07 20:40:20 WARN SparkSession: Using an existing Spark session; only runtime SQL configurations will take effect.\n"
     ]
    }
   ],
   "source": [
    "spark = SparkSession.builder \\\n",
    "    .appName(\"Fact_Table Gold\") \\\n",
    "    .enableHiveSupport() \\\n",
    "    .getOrCreate()"
   ]
  },
  {
   "cell_type": "code",
   "execution_count": 3,
   "id": "d790be85-f2e4-4904-b165-e9c51d8b0053",
   "metadata": {},
   "outputs": [
    {
     "name": "stderr",
     "output_type": "stream",
     "text": [
      "25/04/07 20:40:25 WARN HiveConf: HiveConf of name hive.metastore.db.type does not exist\n"
     ]
    },
    {
     "data": {
      "text/plain": [
       "DataFrame[]"
      ]
     },
     "execution_count": 3,
     "metadata": {},
     "output_type": "execute_result"
    }
   ],
   "source": [
    "spark.sql(\"CREATE DATABASE IF NOT EXISTS gold\")"
   ]
  },
  {
   "cell_type": "code",
   "execution_count": 4,
   "id": "7bdca761-aac7-47b6-815a-22dd0503f377",
   "metadata": {},
   "outputs": [
    {
     "data": {
      "text/plain": [
       "DataFrame[]"
      ]
     },
     "execution_count": 4,
     "metadata": {},
     "output_type": "execute_result"
    }
   ],
   "source": [
    "spark.sql(\"USE gold\")"
   ]
  },
  {
   "cell_type": "code",
   "execution_count": 5,
   "id": "5fe08303-ba61-42c4-80df-e9a6b53e3dee",
   "metadata": {},
   "outputs": [
    {
     "name": "stderr",
     "output_type": "stream",
     "text": [
      "                                                                                \r"
     ]
    }
   ],
   "source": [
    "hdfs_silver_path =\"hdfs:///data/silver/Fact_Table_parquet\"\n",
    "fact_df = spark.read.parquet(hdfs_silver_path)"
   ]
  },
  {
   "cell_type": "code",
   "execution_count": 6,
   "id": "e3cc25ec-a18b-4be4-8cf9-49c2041c1424",
   "metadata": {},
   "outputs": [
    {
     "name": "stdout",
     "output_type": "stream",
     "text": [
      "root\n",
      " |-- Edition ID: integer (nullable = true)\n",
      " |-- Country NOC: string (nullable = true)\n",
      " |-- Result ID: integer (nullable = true)\n",
      " |-- Athlete ID: integer (nullable = true)\n",
      " |-- Position: string (nullable = true)\n",
      " |-- Medal Athlete: string (nullable = true)\n",
      " |-- Gold Medals: integer (nullable = true)\n",
      " |-- Silver Medals: integer (nullable = true)\n",
      " |-- Bronze Medals: integer (nullable = true)\n",
      " |-- Total Medals: integer (nullable = true)\n",
      "\n"
     ]
    }
   ],
   "source": [
    "fact_df.printSchema()"
   ]
  },
  {
   "cell_type": "code",
   "execution_count": 7,
   "id": "6793c411-c710-4d5f-aaae-44662ef21a73",
   "metadata": {},
   "outputs": [],
   "source": [
    "date_silver_path =\"hdfs:///data/silver/Date_parquet\"\n",
    "date_df = spark.read.parquet(date_silver_path)"
   ]
  },
  {
   "cell_type": "code",
   "execution_count": 8,
   "id": "d33340f9-c70d-49db-b0bc-bde4eeeb5b03",
   "metadata": {},
   "outputs": [],
   "source": [
    "fact_with_date_id = fact_df.join(\n",
    "    date_df.select(\"Date_id\"),\n",
    "    fact_df[\"Edition ID\"] == date_df[\"Date_id\"],\n",
    "    how=\"left\"\n",
    ")"
   ]
  },
  {
   "cell_type": "code",
   "execution_count": 9,
   "id": "1b1c7b8d-61df-4949-a176-766a2c48c1b2",
   "metadata": {},
   "outputs": [
    {
     "name": "stdout",
     "output_type": "stream",
     "text": [
      "root\n",
      " |-- Edition ID: integer (nullable = true)\n",
      " |-- Country NOC: string (nullable = true)\n",
      " |-- Result ID: integer (nullable = true)\n",
      " |-- Athlete ID: integer (nullable = true)\n",
      " |-- Position: string (nullable = true)\n",
      " |-- Medal Athlete: string (nullable = true)\n",
      " |-- Gold Medals: integer (nullable = true)\n",
      " |-- Silver Medals: integer (nullable = true)\n",
      " |-- Bronze Medals: integer (nullable = true)\n",
      " |-- Total Medals: integer (nullable = true)\n",
      " |-- Date_id: integer (nullable = true)\n",
      "\n"
     ]
    }
   ],
   "source": [
    "fact_with_date_id.printSchema()"
   ]
  },
  {
   "cell_type": "code",
   "execution_count": 10,
   "id": "dd8c4b4b-097e-4dd6-b010-b1f6d2f967f7",
   "metadata": {},
   "outputs": [
    {
     "name": "stderr",
     "output_type": "stream",
     "text": [
      "25/04/07 20:28:28 WARN SessionState: METASTORE_FILTER_HOOK will be ignored, since hive.security.authorization.manager is set to instance of HiveAuthorizerFactory.\n",
      "                                                                                \r"
     ]
    }
   ],
   "source": [
    "fact_with_date_id.write.format(\"hive\").mode(\"overwrite\").saveAsTable(\"gold.Fact_Table\")"
   ]
  },
  {
   "cell_type": "code",
   "execution_count": null,
   "id": "05b6d292-3c94-4361-9879-dbfe43b3470d",
   "metadata": {},
   "outputs": [],
   "source": [
    "fact_with_date_id.write.mode(\"overwrite\").parquet(\"hdfs:///data/gold/Fact_Table_parquet\")"
   ]
  },
  {
   "cell_type": "code",
   "execution_count": null,
   "id": "62e03d45-ffd1-43f6-bd9b-c624ebed77aa",
   "metadata": {},
   "outputs": [],
   "source": []
  }
 ],
 "metadata": {
  "kernelspec": {
   "display_name": "Python 3 (ipykernel)",
   "language": "python",
   "name": "python3"
  },
  "language_info": {
   "codemirror_mode": {
    "name": "ipython",
    "version": 3
   },
   "file_extension": ".py",
   "mimetype": "text/x-python",
   "name": "python",
   "nbconvert_exporter": "python",
   "pygments_lexer": "ipython3",
   "version": "3.11.7"
  }
 },
 "nbformat": 4,
 "nbformat_minor": 5
}
