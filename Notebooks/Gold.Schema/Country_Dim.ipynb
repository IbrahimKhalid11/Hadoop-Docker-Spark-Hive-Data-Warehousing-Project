{
 "cells": [
  {
   "cell_type": "code",
   "execution_count": 1,
   "id": "ad990050-7e15-445e-bedb-bb763ee79847",
   "metadata": {},
   "outputs": [],
   "source": [
    "from pyspark.sql import SparkSession\n",
    "from pyspark.sql.types import StructType, StructField, StringType, IntegerType, BooleanType\n",
    "from pyspark.sql.functions import *"
   ]
  },
  {
   "cell_type": "code",
   "execution_count": null,
   "id": "36d25171-2dcf-43ae-bc11-697f34f38f87",
   "metadata": {},
   "outputs": [
    {
     "name": "stderr",
     "output_type": "stream",
     "text": [
      "25/04/07 18:14:30 WARN SparkSession: Using an existing Spark session; only runtime SQL configurations will take effect.\n"
     ]
    }
   ],
   "source": [
    "spark = SparkSession.builder \\\n",
    "    .appName(\"OlympicsCountry_Dim Gold\") \\\n",
    "    .enableHiveSupport() \\\n",
    "    .getOrCreate()"
   ]
  },
  {
   "cell_type": "code",
   "execution_count": 3,
   "id": "c42cc1c6-a010-47f8-bbd3-d0eab0ed9ad6",
   "metadata": {},
   "outputs": [
    {
     "name": "stderr",
     "output_type": "stream",
     "text": [
      "25/04/07 18:14:38 WARN HiveConf: HiveConf of name hive.metastore.db.type does not exist\n"
     ]
    },
    {
     "data": {
      "text/plain": [
       "DataFrame[]"
      ]
     },
     "execution_count": 3,
     "metadata": {},
     "output_type": "execute_result"
    }
   ],
   "source": [
    "spark.sql(\"CREATE DATABASE IF NOT EXISTS gold\")"
   ]
  },
  {
   "cell_type": "code",
   "execution_count": 4,
   "id": "595071b6-f8cc-4d89-9d9f-8ee0664b0a5b",
   "metadata": {},
   "outputs": [
    {
     "data": {
      "text/plain": [
       "DataFrame[]"
      ]
     },
     "execution_count": 4,
     "metadata": {},
     "output_type": "execute_result"
    }
   ],
   "source": [
    "spark.sql(\"USE gold\")"
   ]
  },
  {
   "cell_type": "code",
   "execution_count": 6,
   "id": "35b26a84-cdde-4e98-a865-46e23a79b33f",
   "metadata": {},
   "outputs": [
    {
     "name": "stderr",
     "output_type": "stream",
     "text": [
      "                                                                                \r"
     ]
    }
   ],
   "source": [
    "hdfs_silver_path =\"hdfs:///data/silver/OlympicsCountry_parquet\"\n",
    "country = spark.read.parquet(hdfs_silver_path)"
   ]
  },
  {
   "cell_type": "code",
   "execution_count": 7,
   "id": "bef44390-f5ae-494b-ad0f-3eaeef88b106",
   "metadata": {},
   "outputs": [
    {
     "name": "stdout",
     "output_type": "stream",
     "text": [
      "root\n",
      " |-- noc: string (nullable = true)\n",
      " |-- country: string (nullable = true)\n",
      "\n"
     ]
    }
   ],
   "source": [
    "country.printSchema()"
   ]
  },
  {
   "cell_type": "code",
   "execution_count": 8,
   "id": "e9799603-9343-4522-8cb3-9e5da8c8b996",
   "metadata": {},
   "outputs": [
    {
     "name": "stderr",
     "output_type": "stream",
     "text": [
      "                                                                                \r"
     ]
    },
    {
     "name": "stdout",
     "output_type": "stream",
     "text": [
      "+---+--------------+\n",
      "|noc|       country|\n",
      "+---+--------------+\n",
      "|AFG|   Afghanistan|\n",
      "|ALB|       Albania|\n",
      "|ALG|       Algeria|\n",
      "|ASA|American Samoa|\n",
      "|AND|       Andorra|\n",
      "+---+--------------+\n",
      "only showing top 5 rows\n",
      "\n"
     ]
    }
   ],
   "source": [
    "country.show(5)"
   ]
  },
  {
   "cell_type": "code",
   "execution_count": null,
   "id": "e03ebe3e-f8d8-4a15-9f7b-28f553bb9b32",
   "metadata": {},
   "outputs": [
    {
     "name": "stderr",
     "output_type": "stream",
     "text": [
      "25/04/07 18:16:45 WARN SessionState: METASTORE_FILTER_HOOK will be ignored, since hive.security.authorization.manager is set to instance of HiveAuthorizerFactory.\n",
      "                                                                                \r"
     ]
    }
   ],
   "source": [
    "country.write.format(\"hive\").mode(\"overwrite\").saveAsTable(\"gold.Country_Dim\")"
   ]
  },
  {
   "cell_type": "code",
   "execution_count": null,
   "id": "ef8ec4a7-34bb-4a50-a7f1-f8fa6dd0135f",
   "metadata": {},
   "outputs": [],
   "source": [
    "country.write.mode(\"overwrite\").parquet(\"hdfs:///data/gold/Country_parquet\")"
   ]
  }
 ],
 "metadata": {
  "kernelspec": {
   "display_name": "Python 3 (ipykernel)",
   "language": "python",
   "name": "python3"
  },
  "language_info": {
   "codemirror_mode": {
    "name": "ipython",
    "version": 3
   },
   "file_extension": ".py",
   "mimetype": "text/x-python",
   "name": "python",
   "nbconvert_exporter": "python",
   "pygments_lexer": "ipython3",
   "version": "3.11.7"
  }
 },
 "nbformat": 4,
 "nbformat_minor": 5
}
