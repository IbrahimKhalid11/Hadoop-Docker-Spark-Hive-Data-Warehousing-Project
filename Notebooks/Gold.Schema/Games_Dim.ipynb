{
 "cells": [
  {
   "cell_type": "code",
   "execution_count": 1,
   "id": "638c24ed-4072-4603-ae97-594ce78594b5",
   "metadata": {},
   "outputs": [],
   "source": [
    "from pyspark.sql import SparkSession\n",
    "from pyspark.sql.functions import *\n",
    "import warnings\n",
    "warnings.filterwarnings(\"ignore\")"
   ]
  },
  {
   "cell_type": "code",
   "execution_count": null,
   "id": "d9ff57ec-547b-4cbb-ab04-0b94c05c04f9",
   "metadata": {},
   "outputs": [
    {
     "name": "stderr",
     "output_type": "stream",
     "text": [
      "25/04/07 18:46:26 WARN SparkSession: Using an existing Spark session; only runtime SQL configurations will take effect.\n"
     ]
    }
   ],
   "source": [
    "spark = SparkSession.builder \\\n",
    "    .appName(\"OlympicGames_Dim Gold\") \\\n",
    "    .enableHiveSupport() \\\n",
    "    .getOrCreate()"
   ]
  },
  {
   "cell_type": "code",
   "execution_count": 3,
   "id": "b7d0df12-1546-4ae8-a22a-176687b48af2",
   "metadata": {},
   "outputs": [
    {
     "name": "stderr",
     "output_type": "stream",
     "text": [
      "25/04/07 18:46:38 WARN HiveConf: HiveConf of name hive.metastore.db.type does not exist\n"
     ]
    },
    {
     "data": {
      "text/plain": [
       "DataFrame[]"
      ]
     },
     "execution_count": 3,
     "metadata": {},
     "output_type": "execute_result"
    }
   ],
   "source": [
    "spark.sql(\"CREATE DATABASE IF NOT EXISTS gold\")"
   ]
  },
  {
   "cell_type": "code",
   "execution_count": 4,
   "id": "273fc14e-2a96-41f1-9d26-6856ad57b5f2",
   "metadata": {},
   "outputs": [
    {
     "data": {
      "text/plain": [
       "DataFrame[]"
      ]
     },
     "execution_count": 4,
     "metadata": {},
     "output_type": "execute_result"
    }
   ],
   "source": [
    "spark.sql(\"USE gold\")"
   ]
  },
  {
   "cell_type": "code",
   "execution_count": 5,
   "id": "e4d10888-f0b4-4ca3-b825-ba47e97642f4",
   "metadata": {},
   "outputs": [
    {
     "name": "stderr",
     "output_type": "stream",
     "text": [
      "                                                                                \r"
     ]
    }
   ],
   "source": [
    "hdfs_silver_path =\"hdfs:///data/silver/OlympicsGames_parquet\"\n",
    "games = spark.read.parquet(hdfs_silver_path)"
   ]
  },
  {
   "cell_type": "code",
   "execution_count": 6,
   "id": "eb17048d-d6ab-49f8-bdff-932ca82bc1ef",
   "metadata": {},
   "outputs": [
    {
     "name": "stderr",
     "output_type": "stream",
     "text": [
      "                                                                                \r"
     ]
    },
    {
     "name": "stdout",
     "output_type": "stream",
     "text": [
      "+----------+--------------------+-----------+--------------------+---------+-------------+\n",
      "|Edition ID|        Edition Name|Edition URL|            Flag URL|Host City| Host Country|\n",
      "+----------+--------------------+-----------+--------------------+---------+-------------+\n",
      "|         1|1896 Summer Olympics|/editions/1|https://olympedia...|   Athina|       Greece|\n",
      "|         2|1900 Summer Olympics|/editions/2|https://olympedia...|    Paris|       France|\n",
      "|         3|1904 Summer Olympics|/editions/3|https://olympedia...|St. Louis|United States|\n",
      "|         5|1908 Summer Olympics|/editions/5|https://olympedia...|   London|Great Britain|\n",
      "|         6|1912 Summer Olympics|/editions/6|https://olympedia...|Stockholm|       Sweden|\n",
      "+----------+--------------------+-----------+--------------------+---------+-------------+\n",
      "only showing top 5 rows\n",
      "\n"
     ]
    }
   ],
   "source": [
    "games.show(5)"
   ]
  },
  {
   "cell_type": "code",
   "execution_count": 7,
   "id": "ad19e087-3e74-4b9f-90dd-a56301e862e1",
   "metadata": {},
   "outputs": [
    {
     "name": "stdout",
     "output_type": "stream",
     "text": [
      "root\n",
      " |-- Edition ID: integer (nullable = true)\n",
      " |-- Edition Name: string (nullable = true)\n",
      " |-- Edition URL: string (nullable = true)\n",
      " |-- Flag URL: string (nullable = true)\n",
      " |-- Host City: string (nullable = true)\n",
      " |-- Host Country: string (nullable = true)\n",
      "\n"
     ]
    }
   ],
   "source": [
    "games.printSchema()"
   ]
  },
  {
   "cell_type": "code",
   "execution_count": null,
   "id": "cfb27f34-38ce-42b9-9d54-4a61a098d11d",
   "metadata": {},
   "outputs": [
    {
     "name": "stderr",
     "output_type": "stream",
     "text": [
      "25/04/07 18:46:58 WARN SessionState: METASTORE_FILTER_HOOK will be ignored, since hive.security.authorization.manager is set to instance of HiveAuthorizerFactory.\n",
      "                                                                                \r"
     ]
    }
   ],
   "source": [
    "games.write.format(\"hive\").mode(\"overwrite\").saveAsTable(\"gold.Games_Dim\")"
   ]
  },
  {
   "cell_type": "code",
   "execution_count": 9,
   "id": "873728aa-a326-466f-90df-6cabb052794f",
   "metadata": {},
   "outputs": [
    {
     "name": "stderr",
     "output_type": "stream",
     "text": [
      "                                                                                \r"
     ]
    }
   ],
   "source": [
    "games.write.mode(\"overwrite\").parquet(\"hdfs:///data/gold/OlympicsGames_parquet\")\n"
   ]
  },
  {
   "cell_type": "code",
   "execution_count": null,
   "id": "62dbe920-8e86-45a2-9d47-843bd4abd963",
   "metadata": {},
   "outputs": [],
   "source": []
  }
 ],
 "metadata": {
  "kernelspec": {
   "display_name": "Python 3 (ipykernel)",
   "language": "python",
   "name": "python3"
  },
  "language_info": {
   "codemirror_mode": {
    "name": "ipython",
    "version": 3
   },
   "file_extension": ".py",
   "mimetype": "text/x-python",
   "name": "python",
   "nbconvert_exporter": "python",
   "pygments_lexer": "ipython3",
   "version": "3.11.7"
  }
 },
 "nbformat": 4,
 "nbformat_minor": 5
}
