{
 "cells": [
  {
   "cell_type": "code",
   "execution_count": null,
   "metadata": {
    "vscode": {
     "languageId": "plaintext"
    }
   },
   "outputs": [],
   "source": [
    "from pyspark.sql import SparkSession\n",
    "from pyspark.sql.functions import *\n",
    "import warnings\n",
    "warnings.filterwarnings(\"ignore\")"
   ]
  },
  {
   "cell_type": "code",
   "execution_count": null,
   "metadata": {
    "vscode": {
     "languageId": "plaintext"
    }
   },
   "outputs": [],
   "source": [
    "spark = SparkSession.builder.appName(\"OlympicsGames\").getOrCreate()"
   ]
  },
  {
   "cell_type": "code",
   "execution_count": null,
   "metadata": {
    "vscode": {
     "languageId": "plaintext"
    }
   },
   "outputs": [],
   "source": [
    "hdfs_bronze_path =\"hdfs:///data/bronze/Olympics_Games_parquet\"\n",
    "df = spark.read.parquet(hdfs_bronze_path)"
   ]
  },
  {
   "cell_type": "code",
   "execution_count": null,
   "metadata": {
    "vscode": {
     "languageId": "plaintext"
    }
   },
   "outputs": [],
   "source": [
    "Olympic_Games_Medal_Tally_path =\"hdfs:///data/bronze/Olympics_Country_parquet\"\n",
    "df2 = spark.read.parquet(Olympic_Games_Medal_Tally_path)"
   ]
  },
  {
   "cell_type": "code",
   "execution_count": null,
   "metadata": {
    "vscode": {
     "languageId": "plaintext"
    }
   },
   "outputs": [],
   "source": [
    "df_final = df.join(df2, df[\"country_noc\"] == df2[\"noc\"] , how=\"left\")\n"
   ]
  },
  {
   "cell_type": "code",
   "execution_count": null,
   "metadata": {
    "vscode": {
     "languageId": "plaintext"
    }
   },
   "outputs": [],
   "source": [
    "df_final = df_final.select(\n",
    "    col(\"edition_id\").cast(\"int\").alias(\"Edition_ID\"),\n",
    "    col(\"edition\").alias(\"Edition Name\"),\n",
    "    col(\"edition_url\").alias(\"Edition URL\"),\n",
    "    col(\"country_flag_url\").alias(\"Flag URL\"),\n",
    "    col(\"city\").alias(\"Host City\"),\n",
    "    col(\"country\").alias(\"Host Country\")\n",
    ")"
   ]
  },
  {
   "cell_type": "code",
   "execution_count": null,
   "metadata": {
    "vscode": {
     "languageId": "plaintext"
    }
   },
   "outputs": [],
   "source": [
    "df_final.write.mode(\"overwrite\").parquet(\"hdfs:///data/silver/OlympicsGames_parquet\")\n"
   ]
  }
 ],
 "metadata": {
  "kernelspec": {
   "display_name": "Python 3 (ipykernel)",
   "language": "python",
   "name": "python3"
  },
  "language_info": {
   "codemirror_mode": {
    "name": "ipython",
    "version": 3
   },
   "file_extension": ".py",
   "mimetype": "text/x-python",
   "name": "python",
   "nbconvert_exporter": "python",
   "pygments_lexer": "ipython3",
   "version": "3.11.7"
  }
 },
 "nbformat": 4,
 "nbformat_minor": 4
}
