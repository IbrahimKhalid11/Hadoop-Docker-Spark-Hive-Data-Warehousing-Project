{
 "cells": [
  {
   "cell_type": "code",
   "execution_count": 7,
   "id": "98d59743-931a-43c1-9b8f-a4e3a6713c5d",
   "metadata": {},
   "outputs": [],
   "source": [
    "from pyspark.sql import SparkSession\n",
    "from pyspark.sql.functions import *"
   ]
  },
  {
   "cell_type": "code",
   "execution_count": 8,
   "id": "b1dcd2ba-e6a4-4dcc-a164-71eed512d127",
   "metadata": {},
   "outputs": [],
   "source": [
    "spark = SparkSession.builder.appName(\"Date_Dim\").getOrCreate()"
   ]
  },
  {
   "cell_type": "code",
   "execution_count": 9,
   "id": "ce75e874-0b2d-417c-ad5c-40a15f7b1a7c",
   "metadata": {},
   "outputs": [],
   "source": [
    "hdfs_bronze_path =\"hdfs:///data/bronze/Olympics_Games_parquet\"\n",
    "df = spark.read.parquet(hdfs_bronze_path)"
   ]
  },
  {
   "cell_type": "code",
   "execution_count": 10,
   "id": "14eec872-e392-4bc5-a7d6-30a96016a993",
   "metadata": {},
   "outputs": [
    {
     "data": {
      "text/html": [
       "<style>pre { white-space: pre !important; }</style>"
      ],
      "text/plain": [
       "<IPython.core.display.HTML object>"
      ]
     },
     "metadata": {},
     "output_type": "display_data"
    }
   ],
   "source": [
    "from IPython.display import display, HTML\n",
    "display(HTML(\"<style>pre { white-space: pre !important; }</style>\"))"
   ]
  },
  {
   "cell_type": "code",
   "execution_count": 11,
   "id": "386f6d26-6e01-40b4-a0da-652d679809be",
   "metadata": {},
   "outputs": [
    {
     "name": "stdout",
     "output_type": "stream",
     "text": [
      "+----+----------+--------+\n",
      "|year|start_date|end_date|\n",
      "+----+----------+--------+\n",
      "|1896|   6 April|15 April|\n",
      "|1900|      NULL|    NULL|\n",
      "|1904|    14 May|    NULL|\n",
      "|1908|   13 July| 25 July|\n",
      "|1912|    6 July| 15 July|\n",
      "+----+----------+--------+\n",
      "only showing top 5 rows\n",
      "\n"
     ]
    }
   ],
   "source": [
    "df.select(\"year\",\"start_date\",\"end_date\").show(5)"
   ]
  },
  {
   "cell_type": "code",
   "execution_count": 12,
   "id": "f1dfaae9-b672-485e-a83b-8442f18278fa",
   "metadata": {},
   "outputs": [
    {
     "name": "stdout",
     "output_type": "stream",
     "text": [
      "root\n",
      " |-- year: string (nullable = true)\n",
      " |-- start_date: string (nullable = true)\n",
      " |-- end_date: string (nullable = true)\n",
      "\n"
     ]
    }
   ],
   "source": [
    "df.select(\"year\",\"start_date\",\"end_date\").printSchema()"
   ]
  },
  {
   "cell_type": "code",
   "execution_count": 13,
   "id": "740c9ea1-9506-40eb-9a9f-b6d473e63259",
   "metadata": {},
   "outputs": [],
   "source": [
    "df_New = df.select(col(\"edition_id\").alias(\"Date_id\").cast(\"integer\"),col(\"year\"),col(\"start_date\"),col(\"end_date\"))"
   ]
  },
  {
   "cell_type": "code",
   "execution_count": null,
   "id": "490ef834-4057-457e-84af-a7ddf5ffccfe",
   "metadata": {},
   "outputs": [],
   "source": [
    "df_New = df_New.withColumn(\"year\", col(\"year\").cast(\"int\"))\n",
    "\n",
    "df_New = df_New.withColumn(\"start_date\", to_date(trim(col(\"start_date\")), \"d MMMM\"))\n",
    "df_New = df_New.withColumn(\"end_date\", to_date(trim(col(\"end_date\")), \"d MMMM\"))\n",
    "\n"
   ]
  },
  {
   "cell_type": "code",
   "execution_count": 15,
   "id": "09bfbf74-8e1f-4c30-995a-f0a6cbb84360",
   "metadata": {},
   "outputs": [],
   "source": [
    "df_New = df_New.withColumn(\"start_day_date\", dayofmonth(col(\"start_date\")))\n",
    "df_New = df_New.withColumn(\"start_month_date\", month(col(\"start_date\")))\n",
    "df_New = df_New.withColumn(\"end_day_date\", dayofmonth(col(\"end_date\")))\n",
    "df_New = df_New.withColumn(\"end_month_date\", month(col(\"end_date\")))"
   ]
  },
  {
   "cell_type": "code",
   "execution_count": 16,
   "id": "a80f363b-9f88-4f62-8c7e-4fbeb6122236",
   "metadata": {},
   "outputs": [],
   "source": [
    "df_New = df_New.select(\"Date_id\",\"year\",\"start_day_date\",\"start_month_date\",\"end_day_date\",\"end_month_date\")"
   ]
  },
  {
   "cell_type": "code",
   "execution_count": 17,
   "id": "3dbedc49-a65d-452a-96e8-b3ba2e47a665",
   "metadata": {},
   "outputs": [
    {
     "name": "stdout",
     "output_type": "stream",
     "text": [
      "+----+----------+--------+\n",
      "|year|start_date|end_date|\n",
      "+----+----------+--------+\n",
      "|1896|   6 April|15 April|\n",
      "|1900|      NULL|    NULL|\n",
      "|1904|    14 May|    NULL|\n",
      "|1908|   13 July| 25 July|\n",
      "|1912|    6 July| 15 July|\n",
      "+----+----------+--------+\n",
      "only showing top 5 rows\n",
      "\n"
     ]
    }
   ],
   "source": [
    "df.select(\"year\",\"start_date\",\"end_date\").show(5)"
   ]
  },
  {
   "cell_type": "code",
   "execution_count": 21,
   "id": "bd923e94-82e7-4f28-81a2-bb9b87bf9435",
   "metadata": {},
   "outputs": [
    {
     "name": "stdout",
     "output_type": "stream",
     "text": [
      "+-------+----+--------------+----------------+------------+--------------+\n",
      "|Date_id|year|start_day_date|start_month_date|end_day_date|end_month_date|\n",
      "+-------+----+--------------+----------------+------------+--------------+\n",
      "|      1|1896|             6|               4|          15|             4|\n",
      "|      2|1900|          NULL|            NULL|        NULL|          NULL|\n",
      "|      3|1904|            14|               5|        NULL|          NULL|\n",
      "|      5|1908|            13|               7|          25|             7|\n",
      "|      6|1912|             6|               7|          15|             7|\n",
      "|     50|1916|          NULL|            NULL|        NULL|          NULL|\n",
      "|      7|1920|            14|               8|          30|             8|\n",
      "|      8|1924|             5|               7|          27|             7|\n",
      "|      9|1928|            28|               7|          12|             8|\n",
      "|     10|1932|            30|               7|          14|             8|\n",
      "+-------+----+--------------+----------------+------------+--------------+\n",
      "only showing top 10 rows\n",
      "\n"
     ]
    }
   ],
   "source": [
    "df_New.show(10)"
   ]
  },
  {
   "cell_type": "code",
   "execution_count": 19,
   "id": "db3a7db1-8d67-4c3d-be02-66326f520cc4",
   "metadata": {},
   "outputs": [
    {
     "name": "stdout",
     "output_type": "stream",
     "text": [
      "root\n",
      " |-- edition: string (nullable = true)\n",
      " |-- edition_id: string (nullable = true)\n",
      " |-- edition_url: string (nullable = true)\n",
      " |-- year: string (nullable = true)\n",
      " |-- city: string (nullable = true)\n",
      " |-- country_flag_url: string (nullable = true)\n",
      " |-- country_noc: string (nullable = true)\n",
      " |-- start_date: string (nullable = true)\n",
      " |-- end_date: string (nullable = true)\n",
      " |-- competition_date: string (nullable = true)\n",
      " |-- isHeld: string (nullable = true)\n",
      "\n"
     ]
    }
   ],
   "source": [
    "df.printSchema()"
   ]
  },
  {
   "cell_type": "code",
   "execution_count": 14,
   "id": "17f9baf8-f7f1-4514-877f-c550e7848627",
   "metadata": {},
   "outputs": [
    {
     "data": {
      "text/plain": [
       "64"
      ]
     },
     "execution_count": 14,
     "metadata": {},
     "output_type": "execute_result"
    }
   ],
   "source": [
    "df_New.count()"
   ]
  },
  {
   "cell_type": "code",
   "execution_count": null,
   "id": "47893b1d",
   "metadata": {},
   "outputs": [
    {
     "name": "stderr",
     "output_type": "stream",
     "text": [
      "                                                                                \r"
     ]
    }
   ],
   "source": [
    "df_New.write.mode(\"overwrite\").parquet(\"hdfs:///data/silver/Date_parquet\")"
   ]
  }
 ],
 "metadata": {
  "kernelspec": {
   "display_name": "Python 3 (ipykernel)",
   "language": "python",
   "name": "python3"
  },
  "language_info": {
   "codemirror_mode": {
    "name": "ipython",
    "version": 3
   },
   "file_extension": ".py",
   "mimetype": "text/x-python",
   "name": "python",
   "nbconvert_exporter": "python",
   "pygments_lexer": "ipython3",
   "version": "3.11.7"
  }
 },
 "nbformat": 4,
 "nbformat_minor": 5
}
