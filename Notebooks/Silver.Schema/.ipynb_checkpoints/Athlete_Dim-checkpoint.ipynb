{
 "cells": [
  {
   "cell_type": "code",
   "execution_count": 1,
   "id": "98d59743-931a-43c1-9b8f-a4e3a6713c5d",
   "metadata": {},
   "outputs": [],
   "source": [
    "from pyspark.sql import SparkSession\n",
    "from pyspark.sql.functions import *"
   ]
  },
  {
   "cell_type": "code",
   "execution_count": 3,
   "id": "b1dcd2ba-e6a4-4dcc-a164-71eed512d127",
   "metadata": {},
   "outputs": [],
   "source": [
    "spark = SparkSession.builder.appName(\"Athlete_Dim\").getOrCreate()"
   ]
  },
  {
   "cell_type": "code",
   "execution_count": 25,
   "id": "ce75e874-0b2d-417c-ad5c-40a15f7b1a7c",
   "metadata": {},
   "outputs": [],
   "source": [
    "hdfs_bronze_path =\"hdfs:///data/bronze/Olympic_Athlete_Bio_parquet\"\n",
    "df = spark.read.parquet(hdfs_bronze_path)"
   ]
  },
  {
   "cell_type": "code",
   "execution_count": 26,
   "id": "386f6d26-6e01-40b4-a0da-652d679809be",
   "metadata": {},
   "outputs": [
    {
     "name": "stdout",
     "output_type": "stream",
     "text": [
      "+----------+--------------+----+----------------+------+------+------------------+-----------+--------------------+-------------+\n",
      "|athlete_id|          name| sex|            born|height|weight|           country|country_noc|         description|special_notes|\n",
      "+----------+--------------+----+----------------+------+------+------------------+-----------+--------------------+-------------+\n",
      "|    109014|Lee Jeong-Seon|Male|15 February 1979|   177|    80| Republic of Korea|        KOR|                NULL|         NULL|\n",
      "|    110132|Viktor Pfeifer|Male|     16 May 1987|   182|    62|           Austria|        AUT|                NULL|         NULL|\n",
      "|     31750|    Klaus Weiß|Male|20 November 1944|   192|    92|      East Germany|        GDR|Goalie Klaus Weiß...|         NULL|\n",
      "+----------+--------------+----+----------------+------+------+------------------+-----------+--------------------+-------------+\n",
      "only showing top 3 rows\n",
      "\n"
     ]
    }
   ],
   "source": [
    "df.show(3)"
   ]
  },
  {
   "cell_type": "code",
   "execution_count": 27,
   "id": "f1dfaae9-b672-485e-a83b-8442f18278fa",
   "metadata": {},
   "outputs": [
    {
     "name": "stdout",
     "output_type": "stream",
     "text": [
      "root\n",
      " |-- athlete_id: string (nullable = true)\n",
      " |-- name: string (nullable = true)\n",
      " |-- sex: string (nullable = true)\n",
      " |-- born: string (nullable = true)\n",
      " |-- height: string (nullable = true)\n",
      " |-- weight: string (nullable = true)\n",
      " |-- country: string (nullable = true)\n",
      " |-- country_noc: string (nullable = true)\n",
      " |-- description: string (nullable = true)\n",
      " |-- special_notes: string (nullable = true)\n",
      "\n"
     ]
    }
   ],
   "source": [
    "df.printSchema()"
   ]
  },
  {
   "cell_type": "code",
   "execution_count": 28,
   "id": "02110af5-6529-4ced-8d62-6cd26325aa4d",
   "metadata": {},
   "outputs": [],
   "source": [
    "df = df.withColumn(\"athlete_id\", col(\"athlete_id\").cast(\"int\"))\n",
    "df = df.withColumn(\"height\", col(\"height\").cast(\"int\"))\n",
    "df = df.withColumn(\"weight\", col(\"weight\").cast(\"int\"))"
   ]
  },
  {
   "cell_type": "code",
   "execution_count": 29,
   "id": "740c9ea1-9506-40eb-9a9f-b6d473e63259",
   "metadata": {},
   "outputs": [],
   "source": [
    "df = df.withColumn(\"sex\", when(col(\"sex\") == \"Male\", 1).otherwise(0))"
   ]
  },
  {
   "cell_type": "code",
   "execution_count": 30,
   "id": "fcf6c48f-b816-4789-a8ff-61e50b7c7eef",
   "metadata": {},
   "outputs": [
    {
     "data": {
      "text/plain": [
       "155861"
      ]
     },
     "execution_count": 30,
     "metadata": {},
     "output_type": "execute_result"
    }
   ],
   "source": [
    "df.count()"
   ]
  },
  {
   "cell_type": "code",
   "execution_count": 35,
   "id": "7c726455-7e52-46b1-98e1-067709388bb7",
   "metadata": {},
   "outputs": [
    {
     "data": {
      "text/plain": [
       "athlete_id    0\n",
       "name          0\n",
       "sex           0\n",
       "born          0\n",
       "height        0\n",
       "weight        0\n",
       "country       0\n",
       "dtype: int64"
      ]
     },
     "execution_count": 35,
     "metadata": {},
     "output_type": "execute_result"
    }
   ],
   "source": [
    "sathlete =df.toPandas()\n",
    "sathlete.isnull().sum()"
   ]
  },
  {
   "cell_type": "code",
   "execution_count": 32,
   "id": "490ef834-4057-457e-84af-a7ddf5ffccfe",
   "metadata": {},
   "outputs": [],
   "source": [
    "df = df.drop(\"country_noc\",\"description\", \"special_notes\")"
   ]
  },
  {
   "cell_type": "code",
   "execution_count": 33,
   "id": "a73fcb71-5b86-42f0-a3a1-646228fa9f29",
   "metadata": {},
   "outputs": [],
   "source": [
    "df = df.na.drop(subset=[\"born\"])"
   ]
  },
  {
   "cell_type": "code",
   "execution_count": 34,
   "id": "4f4f0bc2-a41c-4078-a3e9-0f6712da9e9e",
   "metadata": {},
   "outputs": [],
   "source": [
    "avg_height = df.select(avg(col(\"height\"))).collect()[0][0]\n",
    "avg_weight = df.select(avg(col(\"weight\"))).collect()[0][0]\n",
    "\n",
    "df = df.fillna({\"height\": avg_height, \"weight\": avg_weight})"
   ]
  },
  {
   "cell_type": "code",
   "execution_count": 36,
   "id": "0719629f-33e7-4cb6-8056-4fbd3127bdf8",
   "metadata": {},
   "outputs": [],
   "source": [
    "df = df.withColumn(\"born\", to_date(col(\"born\"), \"d MMMM yyyy\"))"
   ]
  },
  {
   "cell_type": "code",
   "execution_count": 37,
   "id": "665ec75d-85ac-405f-8820-f81d7870abda",
   "metadata": {},
   "outputs": [
    {
     "name": "stdout",
     "output_type": "stream",
     "text": [
      "+----------+--------------+---+----------+------+------+------------------+\n",
      "|athlete_id|          name|sex|      born|height|weight|           country|\n",
      "+----------+--------------+---+----------+------+------+------------------+\n",
      "|    109014|Lee Jeong-Seon|  1|1979-02-15|   177|    80| Republic of Korea|\n",
      "|    110132|Viktor Pfeifer|  1|1987-05-16|   182|    62|           Austria|\n",
      "|     31750|    Klaus Weiß|  1|1944-11-20|   192|    92|      East Germany|\n",
      "+----------+--------------+---+----------+------+------+------------------+\n",
      "only showing top 3 rows\n",
      "\n"
     ]
    }
   ],
   "source": [
    "df.show(3)"
   ]
  },
  {
   "cell_type": "code",
   "execution_count": 38,
   "id": "31beef7c-6d3d-4cda-825f-54f343526a3a",
   "metadata": {},
   "outputs": [],
   "source": [
    "df_final = df.select(\n",
    "    col(\"athlete_id\").alias(\"Athlete ID\"),\n",
    "    col(\"name\").alias(\"Name\"),\n",
    "    col(\"sex\").alias(\"Sex\"),\n",
    "    col(\"born\").alias(\"Born\"),\n",
    "    col(\"height\").alias(\"Height\"),\n",
    "    col(\"weight\").alias(\"Weight\"),\n",
    "    col(\"country\").alias(\"Nationality\")\n",
    ")"
   ]
  },
  {
   "cell_type": "code",
   "execution_count": 39,
   "id": "666993da-2f33-4a35-9267-417a26b5f0dc",
   "metadata": {},
   "outputs": [
    {
     "name": "stderr",
     "output_type": "stream",
     "text": [
      "                                                                                \r"
     ]
    }
   ],
   "source": [
    "df_final.write.mode(\"overwrite\").parquet(\"hdfs:///data/sliver/Athlete_parquet\")"
   ]
  },
  {
   "cell_type": "code",
   "execution_count": null,
   "id": "bf75b9e1-8174-45b8-b060-71c46037619c",
   "metadata": {},
   "outputs": [],
   "source": []
  }
 ],
 "metadata": {
  "kernelspec": {
   "display_name": "Python 3 (ipykernel)",
   "language": "python",
   "name": "python3"
  },
  "language_info": {
   "codemirror_mode": {
    "name": "ipython",
    "version": 3
   },
   "file_extension": ".py",
   "mimetype": "text/x-python",
   "name": "python",
   "nbconvert_exporter": "python",
   "pygments_lexer": "ipython3",
   "version": "3.11.7"
  }
 },
 "nbformat": 4,
 "nbformat_minor": 5
}
