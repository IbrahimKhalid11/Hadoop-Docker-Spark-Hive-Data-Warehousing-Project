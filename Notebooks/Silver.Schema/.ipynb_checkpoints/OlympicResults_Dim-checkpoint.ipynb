{
 "cells": [
  {
   "cell_type": "code",
   "execution_count": 1,
   "id": "98d59743-931a-43c1-9b8f-a4e3a6713c5d",
   "metadata": {},
   "outputs": [],
   "source": [
    "from pyspark.sql import SparkSession\n",
    "from pyspark.sql.functions import *\n",
    "import warnings\n",
    "warnings.filterwarnings(\"ignore\")"
   ]
  },
  {
   "cell_type": "code",
   "execution_count": 2,
   "id": "b1dcd2ba-e6a4-4dcc-a164-71eed512d127",
   "metadata": {},
   "outputs": [
    {
     "name": "stderr",
     "output_type": "stream",
     "text": [
      "25/04/13 06:01:36 WARN SparkSession: Using an existing Spark session; only runtime SQL configurations will take effect.\n"
     ]
    }
   ],
   "source": [
    "spark = SparkSession.builder.appName(\"OlympicResults_Dim\").getOrCreate()"
   ]
  },
  {
   "cell_type": "code",
   "execution_count": 3,
   "id": "ce75e874-0b2d-417c-ad5c-40a15f7b1a7c",
   "metadata": {},
   "outputs": [
    {
     "name": "stderr",
     "output_type": "stream",
     "text": [
      "[Stage 0:===========================================================(1 + 0) / 1]\r"
     ]
    }
   ],
   "source": [
    "hdfs_bronze_path =\"hdfs:///data/bronze/Olympic_Results_parquet\"\n",
    "df = spark.read.parquet(hdfs_bronze_path)"
   ]
  },
  {
   "cell_type": "code",
   "execution_count": 4,
   "id": "2aa6d59f-1550-4462-bba2-a1b786daed87",
   "metadata": {},
   "outputs": [
    {
     "name": "stderr",
     "output_type": "stream",
     "text": [
      "                                                                                \r"
     ]
    },
    {
     "data": {
      "text/plain": [
       "20782"
      ]
     },
     "execution_count": 4,
     "metadata": {},
     "output_type": "execute_result"
    }
   ],
   "source": [
    "df.count()"
   ]
  },
  {
   "cell_type": "code",
   "execution_count": 5,
   "id": "166362f4-68d8-4f46-a146-2109df491189",
   "metadata": {},
   "outputs": [],
   "source": [
    "df = df.filter(col(\"result_id\").rlike(\"^[0-9]+$\")) "
   ]
  },
  {
   "cell_type": "code",
   "execution_count": 6,
   "id": "1b025bc4-6c93-44b2-b7cd-69a34b169881",
   "metadata": {},
   "outputs": [
    {
     "name": "stderr",
     "output_type": "stream",
     "text": [
      "                                                                                \r"
     ]
    },
    {
     "data": {
      "text/plain": [
       "7394"
      ]
     },
     "execution_count": 6,
     "metadata": {},
     "output_type": "execute_result"
    }
   ],
   "source": [
    "df.count()"
   ]
  },
  {
   "cell_type": "code",
   "execution_count": 7,
   "id": "3f906b86-13e3-41b7-b0a7-50734386bf60",
   "metadata": {},
   "outputs": [
    {
     "data": {
      "text/html": [
       "<style>pre { white-space: pre !important; }</style>"
      ],
      "text/plain": [
       "<IPython.core.display.HTML object>"
      ]
     },
     "metadata": {},
     "output_type": "display_data"
    }
   ],
   "source": [
    "from IPython.display import display, HTML\n",
    "display(HTML(\"<style>pre { white-space: pre !important; }</style>\"))"
   ]
  },
  {
   "cell_type": "code",
   "execution_count": 8,
   "id": "0c434d0f-572c-419f-ac67-29731200e91a",
   "metadata": {},
   "outputs": [
    {
     "data": {
      "text/html": [
       "\n",
       "            <div>\n",
       "                <p><b>SparkSession - hive</b></p>\n",
       "                \n",
       "        <div>\n",
       "            <p><b>SparkContext</b></p>\n",
       "\n",
       "            <p><a href=\"http://172.30.51.198:4040\">Spark UI</a></p>\n",
       "\n",
       "            <dl>\n",
       "              <dt>Version</dt>\n",
       "                <dd><code>v3.5.5</code></dd>\n",
       "              <dt>Master</dt>\n",
       "                <dd><code>local[*]</code></dd>\n",
       "              <dt>AppName</dt>\n",
       "                <dd><code>PySparkShell</code></dd>\n",
       "            </dl>\n",
       "        </div>\n",
       "        \n",
       "            </div>\n",
       "        "
      ],
      "text/plain": [
       "<pyspark.sql.session.SparkSession at 0x7fb0b4aa0f90>"
      ]
     },
     "execution_count": 8,
     "metadata": {},
     "output_type": "execute_result"
    }
   ],
   "source": [
    "spark"
   ]
  },
  {
   "cell_type": "code",
   "execution_count": 9,
   "id": "386f6d26-6e01-40b4-a0da-652d679809be",
   "metadata": {},
   "outputs": [
    {
     "name": "stdout",
     "output_type": "stream",
     "text": [
      "+---------+--------------------+--------------------+----------+--------------------+--------------------+--------------------+--------------------+--------------------+--------------------+--------------------+--------------------+\n",
      "|result_id|         event_title|             edition|edition_id|               sport|           sport_url|         result_date|     result_location| result_participants|       result_format|       result_detail|  result_description|\n",
      "+---------+--------------------+--------------------+----------+--------------------+--------------------+--------------------+--------------------+--------------------+--------------------+--------------------+--------------------+\n",
      "|    30359|Super-Heavyweight...|2004 Summer Olympics|        26|       Weightlifting|/editions/26/spor...|25 August 2004 — ...|Olympiako Gymnast...|17 from 15 countries|Total of best lif...|                  na|Not so much a com...|\n",
      "|     1626|Giant Slalom, Women1|1998 Winter Olympics|        46|        Snowboarding|/editions/46/spor...|     9 February 1998|Mt. Yakebitai, Sh...|31 from 14 countries|Two runs, total t...|Gates: 38 / 36Len...|The women’s giant...|\n",
      "|       76|        Singles, Men|1976 Winter Olympics|        40|                Luge|/editions/40/spor...|4 –  7 February 1976|Kunsteis-Bob- und...|43 from 15 countries|Four runs, total ...|Curves: 14Length:...|Once more, the co...|\n",
      "|      962|   1,500 metres, Men|1928 Winter Olympics|        30|       Speed Skating|/editions/30/spor...|14 February 1928 ...|Olympia-Eisstadio...|30 from 14 countries|                  na|                  na|There was little ...|\n",
      "|   258824|Canadian Singles,...|2008 Summer Olympics|        53|        Canoe Slalom|/editions/53/spor...| 11 – 12 August 2008|Shunyi Aolinpike ...|16 from 16 countries|                  na|                  na|Two former Olympi...|\n",
      "|   925522|Singles, Handicap...|1900 Summer Olympics|         2|              Tennis|/editions/2/sport...|    6 – 11 July 1900|Société des sport...| 15 from 3 countries|                  na|                  na|                  na|\n",
      "|    58336|       Shot Put, Men|1936 Summer Olympics|        11|           Athletics|/editions/11/spor...|       2 August 1936|Olympiastadion, R...|22 from 14 countries|                  na|                  na|In 1934 Jack Torr...|\n",
      "|   901207|800 metres Wheelc...|2004 Summer Olympics|        26|           Athletics|/editions/26/spor...|22 August 2004 — ...|Olympiako Stadio,...|  7 from 4 countries|                  na|                  na|Wheelchair racing...|\n",
      "|   923582|30 kilometres (Ma...|2010 Winter Olympics|        57|Cross Country Skiing|/editions/57/spor...|27 February 2010 ...|Whistler Olympic ...|53 from 21 countries|                  na|Course Length: 29...|There was some co...|\n",
      "|   900038|Kayak Singles, 80...|1924 Summer Olympics|         8|        Canoe Sprint|/editions/8/sport...|        14 July 1924|Bassin d'Argenteu...|  3 from 2 countries|                  na|                  na|Canoeing was demo...|\n",
      "+---------+--------------------+--------------------+----------+--------------------+--------------------+--------------------+--------------------+--------------------+--------------------+--------------------+--------------------+\n",
      "only showing top 10 rows\n",
      "\n"
     ]
    }
   ],
   "source": [
    "df.show(10)"
   ]
  },
  {
   "cell_type": "code",
   "execution_count": 10,
   "id": "f1dfaae9-b672-485e-a83b-8442f18278fa",
   "metadata": {},
   "outputs": [
    {
     "name": "stdout",
     "output_type": "stream",
     "text": [
      "root\n",
      " |-- result_id: string (nullable = true)\n",
      " |-- event_title: string (nullable = true)\n",
      " |-- edition: string (nullable = true)\n",
      " |-- edition_id: string (nullable = true)\n",
      " |-- sport: string (nullable = true)\n",
      " |-- sport_url: string (nullable = true)\n",
      " |-- result_date: string (nullable = true)\n",
      " |-- result_location: string (nullable = true)\n",
      " |-- result_participants: string (nullable = true)\n",
      " |-- result_format: string (nullable = true)\n",
      " |-- result_detail: string (nullable = true)\n",
      " |-- result_description: string (nullable = true)\n",
      "\n"
     ]
    }
   ],
   "source": [
    "df.printSchema()"
   ]
  },
  {
   "cell_type": "code",
   "execution_count": 11,
   "id": "33847129-c16e-4d23-b385-63e46b6943cd",
   "metadata": {},
   "outputs": [],
   "source": [
    "hdfs_bronze_path =\"hdfs:///data/bronze/Olympic_Athlete_Event_Results_parquet\"\n",
    "df2 = spark.read.parquet(hdfs_bronze_path)"
   ]
  },
  {
   "cell_type": "code",
   "execution_count": 12,
   "id": "701cf17c-2daf-4d9c-b79c-dc8b534804d7",
   "metadata": {},
   "outputs": [
    {
     "name": "stdout",
     "output_type": "stream",
     "text": [
      "root\n",
      " |-- edition: string (nullable = true)\n",
      " |-- edition_id: string (nullable = true)\n",
      " |-- country_noc: string (nullable = true)\n",
      " |-- sport: string (nullable = true)\n",
      " |-- event: string (nullable = true)\n",
      " |-- result_id: string (nullable = true)\n",
      " |-- athlete: string (nullable = true)\n",
      " |-- athlete_id: string (nullable = true)\n",
      " |-- pos: string (nullable = true)\n",
      " |-- medal: string (nullable = true)\n",
      " |-- isTeamSport: string (nullable = true)\n",
      "\n"
     ]
    }
   ],
   "source": [
    "df2.printSchema()"
   ]
  },
  {
   "cell_type": "code",
   "execution_count": 13,
   "id": "187ebd51-15c3-41a7-b484-131d14982293",
   "metadata": {},
   "outputs": [],
   "source": [
    "df2_renamed = df2.select(col(\"result_id\").alias(\"df_result_id\"), \"isTeamSport\",\"event\").distinct()"
   ]
  },
  {
   "cell_type": "code",
   "execution_count": 14,
   "id": "179a5ac3-4a2a-432a-b517-7f8d11a683a8",
   "metadata": {},
   "outputs": [
    {
     "name": "stderr",
     "output_type": "stream",
     "text": [
      "[Stage 9:>                                                          (0 + 4) / 4]\r"
     ]
    },
    {
     "name": "stdout",
     "output_type": "stream",
     "text": [
      "+------------+-----+\n",
      "|df_result_id|count|\n",
      "+------------+-----+\n",
      "|    19019671|    2|\n",
      "+------------+-----+\n",
      "\n"
     ]
    },
    {
     "name": "stderr",
     "output_type": "stream",
     "text": [
      "                                                                                \r"
     ]
    }
   ],
   "source": [
    "df2_renamed.groupBy(\"df_result_id\").count().filter(\"count > 1\").show()\n"
   ]
  },
  {
   "cell_type": "code",
   "execution_count": 15,
   "id": "cacf5866-7da4-4d1a-98ea-72bfe72dca22",
   "metadata": {},
   "outputs": [],
   "source": [
    "df2_renamed = df2_renamed.dropDuplicates([\"df_result_id\"])"
   ]
  },
  {
   "cell_type": "code",
   "execution_count": 16,
   "id": "39d8e6dc-7d75-42ac-b61e-aa0d96b22725",
   "metadata": {},
   "outputs": [],
   "source": [
    "\n",
    "df_final = df.join(\n",
    "    df2_renamed,  # Use the renamed df2\n",
    "    df[\"result_id\"] == df2_renamed[\"df_result_id\"],  # Reference df2_renamed\n",
    "    how=\"left\"\n",
    ")"
   ]
  },
  {
   "cell_type": "code",
   "execution_count": 17,
   "id": "519e1858-4328-48aa-b4f7-7fc66d880b75",
   "metadata": {},
   "outputs": [
    {
     "data": {
      "text/plain": [
       "7394"
      ]
     },
     "execution_count": 17,
     "metadata": {},
     "output_type": "execute_result"
    }
   ],
   "source": [
    "df_final.count()"
   ]
  },
  {
   "cell_type": "code",
   "execution_count": 18,
   "id": "662685cb-cada-456c-8a1f-032037ac6214",
   "metadata": {},
   "outputs": [
    {
     "name": "stderr",
     "output_type": "stream",
     "text": [
      "[Stage 21:>                                                         (0 + 3) / 3]\r"
     ]
    },
    {
     "name": "stdout",
     "output_type": "stream",
     "text": [
      "+---------+-----------+-------+----------+-----+---------+-----------+---------------+-------------------+-------------+-------------+------------------+------------+-----------+-----+\n",
      "|result_id|event_title|edition|edition_id|sport|sport_url|result_date|result_location|result_participants|result_format|result_detail|result_description|df_result_id|isTeamSport|event|\n",
      "+---------+-----------+-------+----------+-----+---------+-----------+---------------+-------------------+-------------+-------------+------------------+------------+-----------+-----+\n",
      "|        0|          0|      0|         0|    0|        0|          0|              1|                  0|            0|            0|                 0|           0|          0|    0|\n",
      "+---------+-----------+-------+----------+-----+---------+-----------+---------------+-------------------+-------------+-------------+------------------+------------+-----------+-----+\n",
      "\n"
     ]
    },
    {
     "name": "stderr",
     "output_type": "stream",
     "text": [
      "                                                                                \r"
     ]
    }
   ],
   "source": [
    "null_counts = df_final.select([sum(col(c).isNull().cast(\"int\")).alias(c) for c in df_final.columns])\n",
    "\n",
    "# Show the result\n",
    "null_counts.show()"
   ]
  },
  {
   "cell_type": "code",
   "execution_count": 19,
   "id": "6a1b1325-d80f-48ac-b1e1-d3510a361856",
   "metadata": {},
   "outputs": [],
   "source": [
    "df_final= df_final.drop(\"edition\",\"edition_id\",\"df_result_id\")"
   ]
  },
  {
   "cell_type": "code",
   "execution_count": 20,
   "id": "65517c2a-4e9f-464b-9648-6fb88bf9d606",
   "metadata": {},
   "outputs": [],
   "source": [
    "df_final=df_final.dropna(subset=\"result_location\")"
   ]
  },
  {
   "cell_type": "code",
   "execution_count": 21,
   "id": "878574c0-c7d1-4fbf-bfa8-70f262b4a3e0",
   "metadata": {},
   "outputs": [
    {
     "name": "stdout",
     "output_type": "stream",
     "text": [
      "root\n",
      " |-- result_id: string (nullable = true)\n",
      " |-- event_title: string (nullable = true)\n",
      " |-- sport: string (nullable = true)\n",
      " |-- sport_url: string (nullable = true)\n",
      " |-- result_date: string (nullable = true)\n",
      " |-- result_location: string (nullable = true)\n",
      " |-- result_participants: string (nullable = true)\n",
      " |-- result_format: string (nullable = true)\n",
      " |-- result_detail: string (nullable = true)\n",
      " |-- result_description: string (nullable = true)\n",
      " |-- isTeamSport: string (nullable = true)\n",
      " |-- event: string (nullable = true)\n",
      "\n"
     ]
    }
   ],
   "source": [
    "df_final.printSchema()"
   ]
  },
  {
   "cell_type": "code",
   "execution_count": 22,
   "id": "38a3f5bb-022c-4607-a92f-7372923122c7",
   "metadata": {},
   "outputs": [
    {
     "name": "stderr",
     "output_type": "stream",
     "text": [
      "[Stage 27:>                                                         (0 + 1) / 1]\r"
     ]
    },
    {
     "name": "stdout",
     "output_type": "stream",
     "text": [
      "+---------+----------------------------------------------------+--------------------+-----------------------+-------------------------------------+---------------------------------------------------------------------------+--------------------+--------------------------------------------------------------------------------------------------------------------------------------------------------------------------------------------------------------------------------------------------------------------+------------------------------------------------------------------------------------------------------------------------------------------------------------------------------------------------------------------------------------------------------------------------------------------------------------------------------+------------------------------------------------------------------------------------------------------------------------------------------------------------------------------------------------------------------------------------------------------------------------------------------------------------------------------------------------------------------------------------------------------------------------------------------------------------------------------------------------------------------------------------------------------------------------------------------------------------------------------------------------------------------------------------------------------------------------------------------------------------------------------------------------------------------------------------------------------------------------------------------------------------------------------------------------------------------------------------------------------------------------------------------------------------------------------------------------------------------------------------------------------------------------------------------------------------------------------------------------------------------------------------------------------------------------------------------------------------------------------------------------------------------------------------------------------------------------------------------------------------------------------------------------------------------------------------------------------------------------------------------------------------------------------------------------------------------------------------------------------------------------------------------------------------------------------------+-----------+---------------------------------------+\n",
      "|result_id|event_title                                         |sport               |sport_url              |result_date                          |result_location                                                            |result_participants |result_format                                                                                                                                                                                                                                                       |result_detail                                                                                                                                                                                                                                                                                                                 |result_description                                                                                                                                                                                                                                                                                                                                                                                                                                                                                                                                                                                                                                                                                                                                                                                                                                                                                                                                                                                                                                                                                                                                                                                                                                                                                                                                                                                                                                                                                                                                                                                                                                                                                                                                                                                                                  |isTeamSport|event                                  |\n",
      "+---------+----------------------------------------------------+--------------------+-----------------------+-------------------------------------+---------------------------------------------------------------------------+--------------------+--------------------------------------------------------------------------------------------------------------------------------------------------------------------------------------------------------------------------------------------------------------------+------------------------------------------------------------------------------------------------------------------------------------------------------------------------------------------------------------------------------------------------------------------------------------------------------------------------------+------------------------------------------------------------------------------------------------------------------------------------------------------------------------------------------------------------------------------------------------------------------------------------------------------------------------------------------------------------------------------------------------------------------------------------------------------------------------------------------------------------------------------------------------------------------------------------------------------------------------------------------------------------------------------------------------------------------------------------------------------------------------------------------------------------------------------------------------------------------------------------------------------------------------------------------------------------------------------------------------------------------------------------------------------------------------------------------------------------------------------------------------------------------------------------------------------------------------------------------------------------------------------------------------------------------------------------------------------------------------------------------------------------------------------------------------------------------------------------------------------------------------------------------------------------------------------------------------------------------------------------------------------------------------------------------------------------------------------------------------------------------------------------------------------------------------------------+-----------+---------------------------------------+\n",
      "|30359    |Super-Heavyweight (>105 kilograms), Men             |Weightlifting       |/editions/26/sports/WLF|25 August 2004 — 16:30 (B), 20:00 (A)|Olympiako Gymnastirio Arsis Varon Nikaias, Nikaia                          |17 from 15 countries|Total of best lifts in snatch and clean & jerk determined placement.  Ties broken by lightest bodyweight.                                                                                                                                                           |na                                                                                                                                                                                                                                                                                                                            |Not so much a competition as a coronation, the gold medal in this event went to Iranian Hossein Reza Zadeh, who was the defending champion and had won the 2002-03 World Championships. Reza Zadeh led after the snatch with 210.0 kg, and then lifted a world record 262.5 kg in the clean & jerk, matching his world record total of 472.5 kg. His clean & jerk was re-measured at 263.5 kg for record purposes. German Ronny Weller had been the silver medalist in this class in 1996 and 2000, and had won medals at the last four Olympics. Attempting to become the first weightlifter to win five medals, he injured himself on his second snatch, and dropped out of the competition. Latvia’s Viktors Ščerbatihs won silver, although well behind Reza Zadeh, and he would return in 2008 and add a bronze medal in the class.                                                                                                                                                                                                                                                                                                                                                                                                                                                                                                                                                                                                                                                                                                                                                                                                                                                                                                                                                                                            |False      |Super-Heavyweight, Men                 |\n",
      "|1626     |Giant Slalom, Women1                                |Snowboarding        |/editions/46/sports/SBD| 9 February 1998                     |Mt. Yakebitai, Shiga Kogen, Yamanouchi                                     |31 from 14 countries|Two runs, total time determined placement.                                                                                                                                                                                                                          |Gates: 38 / 36Length: 936 mStart Altitude: 1960 mVertical Drop: 290 m                                                                                                                                                                                                                                                         |The women’s giant slalom was postponed one day because of a snowstorm that interrupted the competition. The heavy favorite was France’s Karine Ruby, who had won all but one World Cup event in 1997-98, and had won the 1996 FIS World Championships. On the first run, she overwhelmed the field, leading by 1.95 second over her teammate, Isabelle Blanc. On the second run Ruby boarded carefully to protect her lead but still won the gold medal by almost two seconds over Germany’s Heidi Renoth. Blanc had the silver medal in her grasp when she missed the final gate on her second run, and fell, sliding across the finish line. Ruby would compete again at the 2002 and 2006 Winter Olympics, winning a silver medal in 2002 in parallel giant slalom, and switching to boardercross for the 2006 Winter Olympics. She then began training to become a mountain guide and was killed in late May 2009 when she fell into a crevasse on Mont Blanc. Isabelle Blanc returned in 2002 to win the gold medal in the parallel giant slalom.                                                                                                                                                                                                                                                                                                                                                                                                                                                                                                                                                                                                                                                                                                                                                                              |False      |Giant Slalom, Women                    |\n",
      "|76       |Singles, Men                                        |Luge                |/editions/40/sports/LUG|4 –  7 February 1976                 |Kunsteis-Bob- und Rodelbahn, Igls                                          |43 from 15 countries|Four runs, total time determined placement.                                                                                                                                                                                                                         |Curves: 14Length: 1220 mStart Altitude: ?Vertical Drop: 103 m                                                                                                                                                                                                                                                                 |Once more, the competitors from East and West Germany divided the medals among them. The strength of the East German team was shown from the fact that the reigning World Champion and 1972 bronze medallist, Wolfram Fiedler, did not make the cut. This left 1973 World Champion Hans Rinn as the clear favourite. But he made a serious error in the first run, putting him 0.6 seconds behind Dettlef Günther, who had been the 1975 European Champion, but had only managed a 7th spot at the World Championships. Günther would also win the 3rd and 4th run, giving him a comfortable lead. Only West German Josef Fendt could seriously challenge him, but even the former World Champion (1970, 1973) had to concede half a second in the final standings.                                                                                                                                                                                                                                                                                                                                                                                                                                                                                                                                                                                                                                                                                                                                                                                                                                                                                                                                                                                                                                                                 |False      |Singles, Men                           |\n",
      "|962      |1,500 metres, Men                                   |Speed Skating       |/editions/30/sports/SSK|14 February 1928 — 9:00              |Olympia-Eisstadion Badrutts Park, St. Moritz                               |30 from 14 countries|na                                                                                                                                                                                                                                                                  |na                                                                                                                                                                                                                                                                                                                            |There was little doubt that the Olympic 1500 m title would be retained by Clas Thunberg. He had clocked a 2:18.8 nine days earlier in Davos, and all of the other season best times were at least 1.8 seconds slower. In fact, Thunberg had not lost a 1500 m all season, winning this distance at the Finnish, European and World Championships. Behind him, the Norwegians were expected to divide the medals, with the Americans as outsiders.                                                                                                                                                                                                                                                                                                                                                                                                                                                                                                                                                                                                                                                                                                                                                                                                                                                                                                                                                                                                                                                                                                                                                                                                                                                                                                                                                                                   |False      |1,500 metres, Men                      |\n",
      "|258824   |Canadian Singles, Slalom, Men                       |Canoe Slalom        |/editions/53/sports/CSL|11 – 12 August 2008                  |Shunyi Aolinpike Shuishang Gongyuan, Mapo, Shunyi                          |16 from 16 countries|na                                                                                                                                                                                                                                                                  |na                                                                                                                                                                                                                                                                                                                            |Two former Olympic champions in the C-1 slalom, Michal Martikán of Slovakia (1996) and Tony Estanguet of France (2000, 2004) were present for the event at the 2008 Summer Games and, at recent international tournaments, they had demonstrated that they had not passed the peak of their careers. Martikán was the 2007 and 2008 European and 2007 World Champion, as well as the 2006 European and World runner-up and the 2005 World bronze medalist. Estanguet, meanwhile, was the 2006 European and World Champion and the 2005 and 2007 World runner-up. Another strong contender was Rob Bell of Australia, the 2005 World Champion and 2007 bronze medalist.                                                                                                                                                                                                                                                                                                                                                                                                                                                                                                                                                                                                                                                                                                                                                                                                                                                                                                                                                                                                                                                                                                                                                              |False      |Canadian Singles, Slalom, Men          |\n",
      "|925522   |Singles, Handicap (Class II), Men                   |Tennis              |/editions/2/sports/TEN |6 – 11 July 1900                     |Société des sports de l'île de Puteaux, Puteaux                            |15 from 3 countries |na                                                                                                                                                                                                                                                                  |na                                                                                                                                                                                                                                                                                                                            |na                                                                                                                                                                                                                                                                                                                                                                                                                                                                                                                                                                                                                                                                                                                                                                                                                                                                                                                                                                                                                                                                                                                                                                                                                                                                                                                                                                                                                                                                                                                                                                                                                                                                                                                                                                                                                                  |False      |Singles, Handicap, Men                 |\n",
      "|58336    |Shot Put, Men                                       |Athletics           |/editions/11/sports/ATH| 2 August 1936                       |Olympiastadion, Reichssportfeld, Berlin                                    |22 from 14 countries|na                                                                                                                                                                                                                                                                  |na                                                                                                                                                                                                                                                                                                                            |In 1934 Jack Torrance broke the world record three times, leaving it at 17.40 (57-1), set at the Bislett Stadium in Oslo. On the year list in 1936, he was just ahead of German Hans Woellke. But in Berlin Torrance performed poorly and would finish only fifth. Woellke led after round one with 15.96 (52-4½) in the final, but Finland’s Sulo Bärlund moved ahead with 16.03 (52-7¼) in the second round. They both improved in round five, with Woellke winning gold with 16.20 (53-1¾), and Bärlund’s 16.12 (52-10¾) good for silver. German Gerd Stöck was in third place from the first round but improved in the final round with 15.66 (51-4½).                                                                                                                                                                                                                                                                                                                                                                                                                                                                                                                                                                                                                                                                                                                                                                                                                                                                                                                                                                                                                                                                                                                                                                          |False      |Shot Put, Men                          |\n",
      "|901207   |800 metres Wheelchair, Women                        |Athletics           |/editions/26/sports/ATH|22 August 2004 — 20:45               |Olympiako Stadio, Olympiako Athletiko Kentro Athinon Spiros Loues, Maroussi|7 from 4 countries  |na                                                                                                                                                                                                                                                                  |na                                                                                                                                                                                                                                                                                                                            |Wheelchair racing was held as a demonstration event on the athletics program at the Olympics beginning in 1984, but it was discontinued after the 2004 Olympics. The women raced 800 metres on the track with eight competitors. Australian Louise Sauvage had won this event in 1996 and 2000, but in Athina, the victory went to Canadian Chantal Petitclerc, with Sauvage placing third behind her teammate Eliza Stankovich. Petitclerc, who lost the use of both legs at age 13 when a barn door fell on her, had one of the most storied Paralympic careers, winning 21 medals, with 13 golds, between 1992-2008.                                                                                                                                                                                                                                                                                                                                                                                                                                                                                                                                                                                                                                                                                                                                                                                                                                                                                                                                                                                                                                                                                                                                                                                                             |False      |800 metres Wheelchair, Women           |\n",
      "|923582   |30 kilometres (Mass Start, Classical), Women        |Cross Country Skiing|/editions/57/sports/CCS|27 February 2010 — 11:45             |Whistler Olympic Park, Whistler                                            |53 from 21 countries|na                                                                                                                                                                                                                                                                  |Course Length: 29,715 mHeight Differential: 85 mIntermediate 1: 7.1 kmIntermediate 2: 15.0 kmIntermediate 2: 22.3 kmMaximum Climb: 59 mTotal Climbing: 1,047 m                                                                                                                                                                |There was some controversy prior to the race when Justyna Kowalczyk (POL) raised questions about the legality of asthma drugs taken by her main rival Marit Bjørgen (NOR), although some commentators were reminded of Kowalczyk’s ban for drug related offenses in 2005. She had come back to win the 2009 World Championships in the event, had also won the distance World Cup in 2008-09, and was leading that competition coming into Vancouver, narrowly ahead of Bjørgen. At 20 km there will still a number of skiers in contention, but after ski changes Kowalczyk and Bjørgen began to pull away from the field, until only these two were in contention for the gold and silver. Bjørgen made the first move, pulling ahead of Kowalczyk with a few kilometres to go and gaining around a 6-second advantage, but the lead was never decisive and Kowalczyk caught up with her on the final climb. It then came down to a sprint to the line which Kowalczyk won, covering the course in a time of 1-30:33.7, just 0.3 seconds ahead of Bjørgen. The bronze medal was won by Aino-Kaisa Saarinen (FIN), her finishing time being over a minute behind the other medallists, but comfortably ahead of fourth placed Evi Sachenbacher-Stehle (GER). After the race, Kowalczyk apologized to Bjørgen for her accusations, “I am sorry, because it wasn’t such a good time for such a question and opinion. It wasn’t an attack on Marit. She is a very good athlete, but I was trying to talk about the asthma problem we have in cross-country, there are a lot of athletes sick with asthma.” Bjørgen also addressed the issue after the race, “That annoyed me a little bit, but for me it’s already yesterday’s news. I was a little bit disappointed in the beginning when she started this, but I have to forget it.”|False      |30 kilometres, Women                   |\n",
      "|900038   |Kayak Singles, 800 metres, Men                      |Canoe Sprint        |/editions/8/sports/CSP |14 July 1924                         |Bassin d'Argenteuil, Paris                                                 |3 from 2 countries  |na                                                                                                                                                                                                                                                                  |na                                                                                                                                                                                                                                                                                                                            |Canoeing was demonstrated at the Olympics for the only time in 1924, with all the events held at the unusual distance of 800 metres. Only canoeists from Canada and the United States competed in 1924, so it was hardly an international competition. There were three competitors in this event, which was won by American Bud Havens, ahead of Canada’s Roy Nurse. Havens’ nephews, Frank and William Havens, competed in canoeing for the United States at the 1948 and 1952 Olympics.                                                                                                                                                                                                                                                                                                                                                                                                                                                                                                                                                                                                                                                                                                                                                                                                                                                                                                                                                                                                                                                                                                                                                                                                                                                                                                                                          |False      |Kayak Singles, 800 metres, Men         |\n",
      "|24775    |Light-Heavyweight (≤81 kilograms), Men              |Boxing              |/editions/19/sports/BOX|19 – 31 July 1976                    |Aréna Maurice-Richard, Montréal, Québec                                    |18 from 18 countries|Single elimination tournament.                                                                                                                                                                                                                                      |na                                                                                                                                                                                                                                                                                                                            |The 1974 World Champion in this class was the Yugoslav Mate Parlov, who had won the Olympic gold medal in 1972. But he turned professional in 1975 and was not in Montréal. A bronze medalist from the 1974 Worlds was there, however, one Leon Spinks of the United States. An ungainly fighter with powerful hands, but seemingly little skill, Spinks made it to the final and entered the ring shortly after his brother, Michael, had won a gold medal in the middleweight final. In the final Leon met Cuba’s Sixto Soria, who had not fought the distance in any bout in Montréal, winning his quarter-final and semi-final in the first rounds. But the final was no contest, as Spinks battered Soria all around the ring for three rounds, with the referee mercifully stopping the bout at 1:09 of the third. Soria would come back in 1978 to win the World Championship.                                                                                                                                                                                                                                                                                                                                                                                                                                                                                                                                                                                                                                                                                                                                                                                                                                                                                                                                               |False      |Light-Heavyweight, Men                 |\n",
      "|925729   |220 yards Hurdles, Handicap - AAU Handicap Meet, Men|Athletics           |/editions/3/sports/ATH | 2 June 1904                         |Francis Field, Washington University, St. Louis                            |3 from 1 countries  |na                                                                                                                                                                                                                                                                  |na                                                                                                                                                                                                                                                                                                                            |na                                                                                                                                                                                                                                                                                                                                                                                                                                                                                                                                                                                                                                                                                                                                                                                                                                                                                                                                                                                                                                                                                                                                                                                                                                                                                                                                                                                                                                                                                                                                                                                                                                                                                                                                                                                                                                  |False      |220 yards Hurdles, Handicap, Men       |\n",
      "|350212   |Aerials, Men                                        |Freestyle Skiing    |/editions/58/sports/FRS|17 February 2014                     |Ekstrim-Park Rosa Khutor, Krasnaya Polyana                                 |21 from 9 countries |na                                                                                                                                                                                                                                                                  |Inrun Distance: 70 mInrun Gradient: 27°Kicker #1: 3.60 m - 56° - 2.10 mKicker #2: 6.00 m - 66° - 3.55 mKicker #3: 6.00 m - 66° - 3.60 mKicker #4: 7.50 m - 71.5° - 4.20 mKicker #6: 7.50 m - 71.5° - 4.25 mLanding Distance: 26 mLanding Gradient: 39°Start Elevation: ?Table Distance: 23 mTable Gradient: 0°Vertical Drop: ?|Freestyle aerials was held as a series of elimination runs, with two rounds of qualifying and three rounds in the final. Twelve of the 21 competitors advanced to the final from qualifying, six from the first run, and six from the second run. The final saw the top eight on the first run advanced to run two, with the top four on run two advancing to the final medal run.                                                                                                                                                                                                                                                                                                                                                                                                                                                                                                                                                                                                                                                                                                                                                                                                                                                                                                                                                                                                                                                                                                                                                                                                                                                                                                                                                                                                                                                  |False      |Aerials, Men                           |\n",
      "|124397   |Welterweight, Freestyle (≤73 kilograms), Men        |Wrestling           |/editions/15/sports/WRE|1 –  6 September 1960                |Basilica di Massenzio, Roma                                                |23 from 23 countries|Scoring by negative points, with negative points given for any result short of a fall.  Accumulation of 6 negative points eliminated the wrestler. When three or fewer wrestlers remained, they advanced to a final round, with preliminary results carried forward.|na                                                                                                                                                                                                                                                                                                                            |Iran’s Emam Ali Habibi was considered the overwhelming favorite in this class. He had won the 1959 World Championships, was Olympic lightweight gold medalist in 1956, and the 1958 Asian Champion. He was thought to be the “unbeatable Iranian.” Nobody outside of the United States had heard of American Doug Blubaugh but Habibi would soon find out. Blubaugh won his first four matches, three by falls, and one by walkover, and then met Habibi in round five, throwing him in 2:37 to eliminate Habibi, who would finish in a tie for fourth. In the final round Blubaugh then won by decision over Turkey’s İsmail Oğan and threw Pakistani Muhammad Bashir to win the gold medal.                                                                                                                                                                                                                                                                                                                                                                                                                                                                                                                                                                                                                                                                                                                                                                                                                                                                                                                                                                                                                                                                                                                                       |False      |Welterweight, Freestyle, Men           |\n",
      "|64560    |Javelin Throw, Women                                |Athletics           |/editions/23/sports/ATH|31 July –  1 August 1992             |Estadio Olímpico de Montjuïc, Barcelona                                    |25 from 17 countries|na                                                                                                                                                                                                                                                                  |na                                                                                                                                                                                                                                                                                                                            |Petra Felke (GER) was the defending champion but was not the dominant thrower she had been in 1988. She had finished second at the 1991 World Championships behind Xu Demei (CHN), while the 1990 European Champion was Finland’s Päivi Alafrantti. But the best throwers in 1992 had been Belarussian Nataliya Shikolenko and Norway’s Trine Hattestad, and they led the qualifiers. Shikolenko took the lead in the final with 68.26 (223-11½) in the first round. Round one produced all the medalists as Silke Renk (GER) threw 67.24 (220-7¼) and Karen Forkel, eventual bronze medalist, threw 65.02 (213-4), and nobody would surpass those marks except the leaders. The standings held up through five rounds with Shikolenko leading Renk, who then won the gold medal with 68.34 (224-2½) on her final toss.                                                                                                                                                                                                                                                                                                                                                                                                                                                                                                                                                                                                                                                                                                                                                                                                                                                                                                                                                                                                             |False      |Javelin Throw, Women                   |\n",
      "|70108    |Rings, Men                                          |Artistic Gymnastics |/editions/10/sports/GAR|12 August 1932 — 8:00                |Los Angeles Memorial Coliseum, Los Angeles, California                     |14 from 6 countries |Separate competition unrelated to all-around, with specialists allowed to compete on the apparatus.  Score based on compulsory and optional exercises on apparatus.                                                                                                 |na                                                                                                                                                                                                                                                                                                                            |There were 14 gymnasts from six nations in the rings event, with performances in a compulsory and voluntary exercise. The event was held separately from the all-around. This was a specialist’s event as many of the competitors, notably the entire Italian and USA contingents, did not compete in the all-around. The gold medal went to American George Gulack, who was a Latvian emigré, followed by his teammate Tom Denton, with Italy’s Giovanni Lattuada winning bronze. Gulack was the US National Champion on the rings in 1928 and 1935, with Denton winning that title in 1932, but little else is known of Lattuada’s career.                                                                                                                                                                                                                                                                                                                                                                                                                                                                                                                                                                                                                                                                                                                                                                                                                                                                                                                                                                                                                                                                                                                                                                                        |False      |Rings, Men                             |\n",
      "|920066   |Music, Compositions For Orchestra, Open             |Art Competitions    |/editions/12/sports/ART|29 July – 14 August 1948             |Victoria & Albert Museum, London                                           |15 from 8 countries |na                                                                                                                                                                                                                                                                  |na                                                                                                                                                                                                                                                                                                                            |There is no known list of entrants for the 1948 music competitions, although it is known that Austria, Canada, Czechoslovakia, Denmark, Finland, France, Great Britain, Iceland, Ireland, Italy, Luxembourg and Poland sent a total of 36 entries. However, with few exceptions, only the prize winners are known in each category.                                                                                                                                                                                                                                                                                                                                                                                                                                                                                                                                                                                                                                                                                                                                                                                                                                                                                                                                                                                                                                                                                                                                                                                                                                                                                                                                                                                                                                                                                                 |False      |Music, Compositions For Orchestra, Open|\n",
      "|21308    |Bantamweight (≤118 pounds), Men                     |Boxing              |/editions/7/sports/BOX |21 – 24 August 1920                  |Feestzaal, Koninklijke Zoölogische Maatschappij, Antwerpen                 |12 from 7 countries |Single elimination tournament.                                                                                                                                                                                                                                      |na                                                                                                                                                                                                                                                                                                                            |South Africa’s Clarence Walker won four decisions to win the gold medal in this event.  The 1919 Inter-Allied Champion had been Albert Evans of Australia, who had defeated Enea Marzzorati of Italy, but neither competed at Antwerp.                                                                                                                                                                                                                                                                                                                                                                                                                                                                                                                                                                                                                                                                                                                                                                                                                                                                                                                                                                                                                                                                                                                                                                                                                                                                                                                                                                                                                                                                                                                                                                                              |False      |Bantamweight, Men                      |\n",
      "|16634    |Half-Middleweight (≤78 kilograms), Men              |Judo                |/editions/22/sports/JUD|28 September 1988                    |Jang-chung Che-yuk-gwan, Seoul                                             |41 from 41 countries|Two single-elimination pools, with winner of each pool advanced to the final. All judoka losing to the winner of each pool advanced to repêchage pools, with the winners of the repêchage pools earning bronze medals.                                              |na                                                                                                                                                                                                                                                                                                                            |There were several contenders with no clear favorite. Defending champion West German Frank Wieneke was back but had not won a major title since 1984. The Japanese World Champion Hirotaka Okada was expected to challenge for a medal. Also highly considered was Britain’s five-time European Champion Neil Adams, twice an Olympic silver medalist. Adams had come out of retirement to chase the one medal that had escaped him during his career. But the division was marked by upset after upset. Adams went out to East German, Torsten Bréchôt, who had been 1985 World runner-up when known as Torsten Oehmigen. Okada was defeated by Frenchman Pascal Tayot, a strong, muscular fighter with little technique. One pool final matched Wieneke against Bréchôt, with Wieneke closing it out with a koka with seven seconds remaining. The other pool final matched Russian Bashir Varayev, 1987 World runner-up, against Poland’s Waldemar Legień, the 1985 European silver medalist. Legień won by decision, but Varayev’s actions made everyone in the crowd know he did not agree with the result. Just after four minutes into the final, Legień dropped to his back to begin groundwork. Wieneke attacked, but Legień grabbed him and threw with seoi-nage for ippon to win the gold medal at 4:44. Legień would return in 1992 to win gold in the middleweight class.                                                                                                                                                                                                                                                                                                                                                                                                                                              |False      |Half-Middleweight, Men                 |\n",
      "|9000909  |Cross, Men                                          |Snowboarding        |/editions/60/sports/SBD|15 February 2018                     |Phoenix Snow Park, Mountain Cluster, Bongpyeong                            |39 from 16 countries|na                                                                                                                                                                                                                                                                  |Jeff Ihaksi                                                                                                                                                                                                                                                                                                                   |The men’s boardercross was held at the Phoenix Snow Park in the mountain cluster of Bongpyeong, Korea. Among the medal contenders were the defending Olympic and reigning World champion Pierre Vaultier of France, two-time World champion Alex Pullin of Australia, and Italy’s Omar Visintin, the 2014 Crystal Globe winner.                                                                                                                                                                                                                                                                                                                                                                                                                                                                                                                                                                                                                                                                                                                                                                                                                                                                                                                                                                                                                                                                                                                                                                                                                                                                                                                                                                                                                                                                                                     |False      |Cross, Men                             |\n",
      "+---------+----------------------------------------------------+--------------------+-----------------------+-------------------------------------+---------------------------------------------------------------------------+--------------------+--------------------------------------------------------------------------------------------------------------------------------------------------------------------------------------------------------------------------------------------------------------------+------------------------------------------------------------------------------------------------------------------------------------------------------------------------------------------------------------------------------------------------------------------------------------------------------------------------------+------------------------------------------------------------------------------------------------------------------------------------------------------------------------------------------------------------------------------------------------------------------------------------------------------------------------------------------------------------------------------------------------------------------------------------------------------------------------------------------------------------------------------------------------------------------------------------------------------------------------------------------------------------------------------------------------------------------------------------------------------------------------------------------------------------------------------------------------------------------------------------------------------------------------------------------------------------------------------------------------------------------------------------------------------------------------------------------------------------------------------------------------------------------------------------------------------------------------------------------------------------------------------------------------------------------------------------------------------------------------------------------------------------------------------------------------------------------------------------------------------------------------------------------------------------------------------------------------------------------------------------------------------------------------------------------------------------------------------------------------------------------------------------------------------------------------------------+-----------+---------------------------------------+\n",
      "only showing top 20 rows\n",
      "\n"
     ]
    },
    {
     "name": "stderr",
     "output_type": "stream",
     "text": [
      "                                                                                \r"
     ]
    }
   ],
   "source": [
    "df_final.show(20,truncate=False)"
   ]
  },
  {
   "cell_type": "code",
   "execution_count": 23,
   "id": "e470851d-c4bd-4e5d-840b-dc747e500da6",
   "metadata": {},
   "outputs": [],
   "source": [
    "dd=df_final"
   ]
  },
  {
   "cell_type": "code",
   "execution_count": 24,
   "id": "e65a8e2a-ef6c-415f-bbb1-608712a91dc8",
   "metadata": {},
   "outputs": [],
   "source": [
    "df_final=dd"
   ]
  },
  {
   "cell_type": "code",
   "execution_count": 25,
   "id": "db989fca-b40b-499a-9076-0301bc51df6f",
   "metadata": {},
   "outputs": [],
   "source": [
    "date_pattern = r\"(\\d{1,2} \\w+ \\d{4})\"\n",
    "\n",
    "df_final=df_final.withColumn(\n",
    "    \"result_date\",\n",
    "    regexp_extract(col(\"result_date\"), date_pattern, 1)  # Extracts the first valid date\n",
    ")\n",
    "df_final = df_final.withColumn(\n",
    "    \"result_date\",\n",
    "    to_date(col(\"result_date\"), \"d MMMM yyyy\")  # Converts to date type\n",
    ")"
   ]
  },
  {
   "cell_type": "code",
   "execution_count": 26,
   "id": "bee8e23e-bb9c-4a2d-8e8c-e0dac47b1ff8",
   "metadata": {
    "scrolled": true
   },
   "outputs": [
    {
     "name": "stdout",
     "output_type": "stream",
     "text": [
      "root\n",
      " |-- Result_ID: integer (nullable = true)\n",
      " |-- Event Title: string (nullable = true)\n",
      " |-- Event Name: string (nullable = true)\n",
      " |-- Sport: string (nullable = true)\n",
      " |-- Sport URL: string (nullable = true)\n",
      " |-- Result Date: date (nullable = true)\n",
      " |-- Result Location: string (nullable = true)\n",
      " |-- Result Participants: string (nullable = true)\n",
      " |-- Is Team Sport: boolean (nullable = true)\n",
      "\n"
     ]
    },
    {
     "name": "stderr",
     "output_type": "stream",
     "text": [
      "                                                                                \r"
     ]
    },
    {
     "name": "stdout",
     "output_type": "stream",
     "text": [
      "+---------+--------------------+--------------------+-------------+--------------------+-----------+--------------------+--------------------+-------------+\n",
      "|Result_ID|         Event Title|          Event Name|        Sport|           Sport URL|Result Date|     Result Location| Result Participants|Is Team Sport|\n",
      "+---------+--------------------+--------------------+-------------+--------------------+-----------+--------------------+--------------------+-------------+\n",
      "|    30359|Super-Heavyweight...|Super-Heavyweight...|Weightlifting|/editions/26/spor...| 2004-08-25|Olympiako Gymnast...|17 from 15 countries|        false|\n",
      "|     1626|Giant Slalom, Women1| Giant Slalom, Women| Snowboarding|/editions/46/spor...| 1998-02-09|Mt. Yakebitai, Sh...|31 from 14 countries|        false|\n",
      "|       76|        Singles, Men|        Singles, Men|         Luge|/editions/40/spor...| 1976-02-07|Kunsteis-Bob- und...|43 from 15 countries|        false|\n",
      "|      962|   1,500 metres, Men|   1,500 metres, Men|Speed Skating|/editions/30/spor...| 1928-02-14|Olympia-Eisstadio...|30 from 14 countries|        false|\n",
      "|   258824|Canadian Singles,...|Canadian Singles,...| Canoe Slalom|/editions/53/spor...| 2008-08-12|Shunyi Aolinpike ...|16 from 16 countries|        false|\n",
      "+---------+--------------------+--------------------+-------------+--------------------+-----------+--------------------+--------------------+-------------+\n",
      "only showing top 5 rows\n",
      "\n"
     ]
    }
   ],
   "source": [
    "df_final = df_final.select(\n",
    "    col(\"result_id\").cast(\"int\").alias(\"Result_ID\"),\n",
    "    col(\"event_title\").cast(\"string\").alias(\"Event Title\"),\n",
    "    col(\"event\").cast(\"string\").alias(\"Event Name\"),\n",
    "    col(\"sport\").cast(\"string\").alias(\"Sport\"),\n",
    "    col(\"sport_url\").cast(\"string\").alias(\"Sport URL\"),\n",
    "    col(\"result_date\").cast(\"date\").alias(\"Result Date\"),\n",
    "    col(\"result_location\").cast(\"string\").alias(\"Result Location\"),\n",
    "    col(\"result_participants\").cast(\"string\").alias(\"Result Participants\"),\n",
    "    col(\"isTeamSport\").cast(\"boolean\").alias(\"Is Team Sport\")\n",
    ")\n",
    "\n",
    "df_final.printSchema()\n",
    "df_final.show(5)"
   ]
  },
  {
   "cell_type": "code",
   "execution_count": 27,
   "id": "2950b4cd-4dd8-48cf-a14e-d200db0b4f35",
   "metadata": {},
   "outputs": [],
   "source": [
    "df_final = df_final.dropna(subset=\"Result Date\")"
   ]
  },
  {
   "cell_type": "code",
   "execution_count": 28,
   "id": "58c40332-434b-45b4-82a5-510adba388ab",
   "metadata": {},
   "outputs": [
    {
     "name": "stderr",
     "output_type": "stream",
     "text": [
      "                                                                                \r"
     ]
    },
    {
     "name": "stdout",
     "output_type": "stream",
     "text": [
      "+---------+-----------+----------+-----+---------+-----------+---------------+-------------------+-------------+\n",
      "|Result_ID|Event Title|Event Name|Sport|Sport URL|Result Date|Result Location|Result Participants|Is Team Sport|\n",
      "+---------+-----------+----------+-----+---------+-----------+---------------+-------------------+-------------+\n",
      "+---------+-----------+----------+-----+---------+-----------+---------------+-------------------+-------------+\n",
      "\n"
     ]
    }
   ],
   "source": [
    "df_final.filter(col(\"Result Date\").isNull()).show()"
   ]
  },
  {
   "cell_type": "code",
   "execution_count": null,
   "id": "f800c12e-2434-43b9-a02e-6016b67c1886",
   "metadata": {},
   "outputs": [],
   "source": []
  },
  {
   "cell_type": "code",
   "execution_count": 30,
   "id": "0d4fd92a-42c9-42d4-89fb-5d012bef3b41",
   "metadata": {},
   "outputs": [
    {
     "name": "stderr",
     "output_type": "stream",
     "text": [
      "                                                                                \r"
     ]
    }
   ],
   "source": [
    "df.write.mode(\"overwrite\").parquet(\"hdfs:///data/silver/OlympicResults_parquet\")"
   ]
  },
  {
   "cell_type": "code",
   "execution_count": null,
   "id": "bf75b9e1-8174-45b8-b060-71c46037619c",
   "metadata": {},
   "outputs": [],
   "source": []
  }
 ],
 "metadata": {
  "kernelspec": {
   "display_name": "Python 3 (ipykernel)",
   "language": "python",
   "name": "python3"
  },
  "language_info": {
   "codemirror_mode": {
    "name": "ipython",
    "version": 3
   },
   "file_extension": ".py",
   "mimetype": "text/x-python",
   "name": "python",
   "nbconvert_exporter": "python",
   "pygments_lexer": "ipython3",
   "version": "3.11.7"
  }
 },
 "nbformat": 4,
 "nbformat_minor": 5
}
