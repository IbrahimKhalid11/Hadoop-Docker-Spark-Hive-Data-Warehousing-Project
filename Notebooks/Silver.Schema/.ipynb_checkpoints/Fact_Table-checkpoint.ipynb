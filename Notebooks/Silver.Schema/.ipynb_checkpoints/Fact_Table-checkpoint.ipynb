{
 "cells": [
  {
   "cell_type": "code",
   "execution_count": 1,
   "id": "98d59743-931a-43c1-9b8f-a4e3a6713c5d",
   "metadata": {},
   "outputs": [],
   "source": [
    "from pyspark.sql import SparkSession\n",
    "from pyspark.sql.functions import *"
   ]
  },
  {
   "cell_type": "code",
   "execution_count": 2,
   "id": "b1dcd2ba-e6a4-4dcc-a164-71eed512d127",
   "metadata": {},
   "outputs": [
    {
     "name": "stderr",
     "output_type": "stream",
     "text": [
      "25/03/25 07:36:47 WARN SparkSession: Using an existing Spark session; only runtime SQL configurations will take effect.\n"
     ]
    }
   ],
   "source": [
    "spark = SparkSession.builder.appName(\"Fact_Table\").getOrCreate()"
   ]
  },
  {
   "cell_type": "code",
   "execution_count": 3,
   "id": "ce75e874-0b2d-417c-ad5c-40a15f7b1a7c",
   "metadata": {},
   "outputs": [
    {
     "name": "stderr",
     "output_type": "stream",
     "text": [
      "                                                                                \r"
     ]
    }
   ],
   "source": [
    "hdfs_bronze_path =\"hdfs:///data/bronze/Olympic_Athlete_Event_Results_parquet\"\n",
    "df = spark.read.parquet(hdfs_bronze_path)"
   ]
  },
  {
   "cell_type": "code",
   "execution_count": 4,
   "id": "3f906b86-13e3-41b7-b0a7-50734386bf60",
   "metadata": {},
   "outputs": [
    {
     "data": {
      "text/html": [
       "<style>pre { white-space: pre !important; }</style>"
      ],
      "text/plain": [
       "<IPython.core.display.HTML object>"
      ]
     },
     "metadata": {},
     "output_type": "display_data"
    }
   ],
   "source": [
    "from IPython.display import display, HTML\n",
    "display(HTML(\"<style>pre { white-space: pre !important; }</style>\"))"
   ]
  },
  {
   "cell_type": "code",
   "execution_count": 5,
   "id": "0c434d0f-572c-419f-ac67-29731200e91a",
   "metadata": {},
   "outputs": [
    {
     "data": {
      "text/html": [
       "\n",
       "            <div>\n",
       "                <p><b>SparkSession - hive</b></p>\n",
       "                \n",
       "        <div>\n",
       "            <p><b>SparkContext</b></p>\n",
       "\n",
       "            <p><a href=\"http://172.30.51.198:4040\">Spark UI</a></p>\n",
       "\n",
       "            <dl>\n",
       "              <dt>Version</dt>\n",
       "                <dd><code>v3.5.5</code></dd>\n",
       "              <dt>Master</dt>\n",
       "                <dd><code>local[*]</code></dd>\n",
       "              <dt>AppName</dt>\n",
       "                <dd><code>PySparkShell</code></dd>\n",
       "            </dl>\n",
       "        </div>\n",
       "        \n",
       "            </div>\n",
       "        "
      ],
      "text/plain": [
       "<pyspark.sql.session.SparkSession at 0x7fb2a0408810>"
      ]
     },
     "execution_count": 5,
     "metadata": {},
     "output_type": "execute_result"
    }
   ],
   "source": [
    "spark"
   ]
  },
  {
   "cell_type": "code",
   "execution_count": 6,
   "id": "386f6d26-6e01-40b4-a0da-652d679809be",
   "metadata": {},
   "outputs": [
    {
     "name": "stderr",
     "output_type": "stream",
     "text": [
      "                                                                                \r"
     ]
    },
    {
     "name": "stdout",
     "output_type": "stream",
     "text": [
      "+--------------------+----------+-----------+---------+---------------+---------+---------------+----------+---------+-----+-----------+\n",
      "|             edition|edition_id|country_noc|    sport|          event|result_id|        athlete|athlete_id|      pos|medal|isTeamSport|\n",
      "+--------------------+----------+-----------+---------+---------------+---------+---------------+----------+---------+-----+-----------+\n",
      "|1908 Summer Olympics|         5|        ANZ|Athletics|100 metres, Men|    56265|Ernest Hutcheon|     64710|      DNS| NULL|      False|\n",
      "|1908 Summer Olympics|         5|        ANZ|Athletics|400 metres, Men|    56313|   Henry Murray|     64756|      DNS| NULL|      False|\n",
      "|1908 Summer Olympics|         5|        ANZ|Athletics|800 metres, Men|    56338|  Harvey Sutton|     64808|3 h8 r1/2| NULL|      False|\n",
      "|1908 Summer Olympics|         5|        ANZ|Athletics|800 metres, Men|    56338|    Guy Haskins|    922519|      DNS| NULL|      False|\n",
      "|1908 Summer Olympics|         5|        ANZ|Athletics|800 metres, Men|    56338|   Joseph Lynch|     64735|      DNS| NULL|      False|\n",
      "+--------------------+----------+-----------+---------+---------------+---------+---------------+----------+---------+-----+-----------+\n",
      "only showing top 5 rows\n",
      "\n"
     ]
    }
   ],
   "source": [
    "df.show(5)"
   ]
  },
  {
   "cell_type": "code",
   "execution_count": 7,
   "id": "f1dfaae9-b672-485e-a83b-8442f18278fa",
   "metadata": {},
   "outputs": [
    {
     "name": "stdout",
     "output_type": "stream",
     "text": [
      "root\n",
      " |-- edition: string (nullable = true)\n",
      " |-- edition_id: string (nullable = true)\n",
      " |-- country_noc: string (nullable = true)\n",
      " |-- sport: string (nullable = true)\n",
      " |-- event: string (nullable = true)\n",
      " |-- result_id: string (nullable = true)\n",
      " |-- athlete: string (nullable = true)\n",
      " |-- athlete_id: string (nullable = true)\n",
      " |-- pos: string (nullable = true)\n",
      " |-- medal: string (nullable = true)\n",
      " |-- isTeamSport: string (nullable = true)\n",
      "\n"
     ]
    }
   ],
   "source": [
    "df.printSchema()"
   ]
  },
  {
   "cell_type": "code",
   "execution_count": 6,
   "id": "b208333c-3378-4866-b93a-bf089dc47390",
   "metadata": {},
   "outputs": [],
   "source": [
    "Olympic_Games_Medal_Tally_path =\"hdfs:///data/bronze/Olympic_Games_Medal_Tally_parquet\"\n",
    "df2 = spark.read.parquet(Olympic_Games_Medal_Tally_path)"
   ]
  },
  {
   "cell_type": "code",
   "execution_count": 14,
   "id": "a780b8b4-603f-4578-b3fb-7791778ee82f",
   "metadata": {},
   "outputs": [
    {
     "name": "stdout",
     "output_type": "stream",
     "text": [
      "root\n",
      " |-- edition: string (nullable = true)\n",
      " |-- edition_id: string (nullable = true)\n",
      " |-- year: string (nullable = true)\n",
      " |-- country: string (nullable = true)\n",
      " |-- country_noc: string (nullable = true)\n",
      " |-- gold: string (nullable = true)\n",
      " |-- silver: string (nullable = true)\n",
      " |-- bronze: string (nullable = true)\n",
      " |-- total: string (nullable = true)\n",
      "\n"
     ]
    }
   ],
   "source": [
    "df2.printSchema()"
   ]
  },
  {
   "cell_type": "code",
   "execution_count": 7,
   "id": "6a1b1325-d80f-48ac-b1e1-d3510a361856",
   "metadata": {},
   "outputs": [
    {
     "name": "stderr",
     "output_type": "stream",
     "text": [
      "                                                                                \r"
     ]
    },
    {
     "name": "stdout",
     "output_type": "stream",
     "text": [
      "+----------+-----------+---------+----------+----------+-----+-----+---+----+------+------+-----+\n",
      "|edition_id|country_noc|result_id|athlete_id|       pos|medal|ed_id|noc|gold|silver|bronze|total|\n",
      "+----------+-----------+---------+----------+----------+-----+-----+---+----+------+------+-----+\n",
      "|         5|        ANZ|    56265|     64710|       DNS| NULL|    5|ANZ|   1|     2|     2|    5|\n",
      "|         5|        ANZ|    56313|     64756|       DNS| NULL|    5|ANZ|   1|     2|     2|    5|\n",
      "|         5|        ANZ|    56338|     64808| 3 h8 r1/2| NULL|    5|ANZ|   1|     2|     2|    5|\n",
      "|         5|        ANZ|    56338|    922519|       DNS| NULL|    5|ANZ|   1|     2|     2|    5|\n",
      "|         5|        ANZ|    56338|     64735|       DNS| NULL|    5|ANZ|   1|     2|     2|    5|\n",
      "|         5|        ANZ|    56338|     64756|       DNS| NULL|    5|ANZ|   1|     2|     2|    5|\n",
      "|         5|        ANZ|    56349|     64735| 5 h2 r1/2| NULL|    5|ANZ|   1|     2|     2|    5|\n",
      "|         5|        ANZ|    56349|     79576|AC h3 r1/2| NULL|    5|ANZ|   1|     2|     2|    5|\n",
      "|         5|        ANZ|    56349|    922519|       DNS| NULL|    5|ANZ|   1|     2|     2|    5|\n",
      "|         5|        ANZ|    56349|     64619|       DNS| NULL|    5|ANZ|   1|     2|     2|    5|\n",
      "|         5|        ANZ|    56360|     64619| 3 h1 r1/2| NULL|    5|ANZ|   1|     2|     2|    5|\n",
      "|         5|        ANZ|    56360|     64735|AC h5 r1/2| NULL|    5|ANZ|   1|     2|     2|    5|\n",
      "|         5|        ANZ|    56360|    922519|       DNS| NULL|    5|ANZ|   1|     2|     2|    5|\n",
      "|         5|        ANZ|    56360|     64594|       DNS| NULL|    5|ANZ|   1|     2|     2|    5|\n",
      "|         5|        ANZ|    56369|     64594|       DNF| NULL|    5|ANZ|   1|     2|     2|    5|\n",
      "|         5|        ANZ|    56369|     64619|       DNF| NULL|    5|ANZ|   1|     2|     2|    5|\n",
      "|         5|        ANZ|    56369|     64735|       DNF| NULL|    5|ANZ|   1|     2|     2|    5|\n",
      "|         5|        ANZ|    56370|     64756| 2 h1 r1/3| NULL|    5|ANZ|   1|     2|     2|    5|\n",
      "|         5|        ANZ|    56392|     64756| 2 h3 r1/3| NULL|    5|ANZ|   1|     2|     2|    5|\n",
      "|         5|        ANZ|    56412|    922519|       DNS| NULL|    5|ANZ|   1|     2|     2|    5|\n",
      "+----------+-----------+---------+----------+----------+-----+-----+---+----+------+------+-----+\n",
      "only showing top 20 rows\n",
      "\n"
     ]
    }
   ],
   "source": [
    "selected_df = df.select(\"edition_id\", \"country_noc\", \"result_id\", \"athlete_id\", \"pos\", \"medal\") \\\n",
    "    .join(df2.select(col(\"edition_id\").alias(\"ed_id\"), \n",
    "                     col(\"country_noc\").alias(\"noc\"), \n",
    "                     \"gold\", \"silver\", \"bronze\", \"total\"),\n",
    "          (col(\"country_noc\") == col(\"noc\")) & (col(\"edition_id\") == col(\"ed_id\")),\n",
    "          how=\"inner\")\n",
    "\n",
    "selected_df.show()"
   ]
  },
  {
   "cell_type": "code",
   "execution_count": 13,
   "id": "bee8e23e-bb9c-4a2d-8e8c-e0dac47b1ff8",
   "metadata": {},
   "outputs": [
    {
     "name": "stdout",
     "output_type": "stream",
     "text": [
      "+----------+-----------+---------+----------+----------+-------------+-----------+-------------+-------------+------------+\n",
      "|Edition ID|Country NOC|Result ID|Athlete ID|  Position|Medal Athlete|Gold Medals|Silver Medals|Bronze Medals|Total Medals|\n",
      "+----------+-----------+---------+----------+----------+-------------+-----------+-------------+-------------+------------+\n",
      "|         5|        ANZ|    56265|     64710|       DNS|     No Medal|          1|            2|            2|           5|\n",
      "|         5|        ANZ|    56313|     64756|       DNS|     No Medal|          1|            2|            2|           5|\n",
      "|         5|        ANZ|    56338|     64808| 3 h8 r1/2|     No Medal|          1|            2|            2|           5|\n",
      "|         5|        ANZ|    56338|    922519|       DNS|     No Medal|          1|            2|            2|           5|\n",
      "|         5|        ANZ|    56338|     64735|       DNS|     No Medal|          1|            2|            2|           5|\n",
      "|         5|        ANZ|    56338|     64756|       DNS|     No Medal|          1|            2|            2|           5|\n",
      "|         5|        ANZ|    56349|     64735| 5 h2 r1/2|     No Medal|          1|            2|            2|           5|\n",
      "|         5|        ANZ|    56349|     79576|AC h3 r1/2|     No Medal|          1|            2|            2|           5|\n",
      "|         5|        ANZ|    56349|    922519|       DNS|     No Medal|          1|            2|            2|           5|\n",
      "|         5|        ANZ|    56349|     64619|       DNS|     No Medal|          1|            2|            2|           5|\n",
      "|         5|        ANZ|    56360|     64619| 3 h1 r1/2|     No Medal|          1|            2|            2|           5|\n",
      "|         5|        ANZ|    56360|     64735|AC h5 r1/2|     No Medal|          1|            2|            2|           5|\n",
      "|         5|        ANZ|    56360|    922519|       DNS|     No Medal|          1|            2|            2|           5|\n",
      "|         5|        ANZ|    56360|     64594|       DNS|     No Medal|          1|            2|            2|           5|\n",
      "|         5|        ANZ|    56369|     64594|       DNF|     No Medal|          1|            2|            2|           5|\n",
      "|         5|        ANZ|    56369|     64619|       DNF|     No Medal|          1|            2|            2|           5|\n",
      "|         5|        ANZ|    56369|     64735|       DNF|     No Medal|          1|            2|            2|           5|\n",
      "|         5|        ANZ|    56370|     64756| 2 h1 r1/3|     No Medal|          1|            2|            2|           5|\n",
      "|         5|        ANZ|    56392|     64756| 2 h3 r1/3|     No Medal|          1|            2|            2|           5|\n",
      "|         5|        ANZ|    56412|    922519|       DNS|     No Medal|          1|            2|            2|           5|\n",
      "+----------+-----------+---------+----------+----------+-------------+-----------+-------------+-------------+------------+\n",
      "only showing top 20 rows\n",
      "\n"
     ]
    }
   ],
   "source": [
    "from pyspark.sql.functions import col\n",
    "\n",
    "df_final = selected_df.select(\n",
    "    col(\"edition_id\").alias(\"Edition ID\"),\n",
    "    col(\"country_noc\").alias(\"Country NOC\"),\n",
    "    col(\"result_id\").alias(\"Result ID\"),\n",
    "    col(\"athlete_id\").alias(\"Athlete ID\"),\n",
    "    col(\"pos\").alias(\"Position\"),\n",
    "    col(\"medal\").alias(\"Medal Athlete\"),\n",
    "    col(\"gold\").alias(\"Gold Medals\"),\n",
    "    col(\"silver\").alias(\"Silver Medals\"),\n",
    "    col(\"bronze\").alias(\"Bronze Medals\"),\n",
    "    col(\"total\").alias(\"Total Medals\")\n",
    ").fillna({\"Medal Athlete\": \"No Medal\"})  # Replace NULL values in Medal column with 'No Medal'\n",
    "\n",
    "df_final.show()"
   ]
  },
  {
   "cell_type": "code",
   "execution_count": 14,
   "id": "fa080029-fcb5-4435-a4d0-3bfd5a2a2c93",
   "metadata": {},
   "outputs": [
    {
     "data": {
      "text/plain": [
       "278932"
      ]
     },
     "execution_count": 14,
     "metadata": {},
     "output_type": "execute_result"
    }
   ],
   "source": [
    "df_final.count()"
   ]
  },
  {
   "cell_type": "code",
   "execution_count": 15,
   "id": "845a5a68-87e3-40e7-b25f-dcb100915a93",
   "metadata": {},
   "outputs": [
    {
     "name": "stdout",
     "output_type": "stream",
     "text": [
      "+----------+-----------+---------+----------+--------+-------------+-----------+-------------+-------------+------------+\n",
      "|Edition ID|Country NOC|Result ID|Athlete ID|Position|Medal Athlete|Gold Medals|Silver Medals|Bronze Medals|Total Medals|\n",
      "+----------+-----------+---------+----------+--------+-------------+-----------+-------------+-------------+------------+\n",
      "|         0|          0|        0|         0|       0|            0|          0|            0|            0|           0|\n",
      "+----------+-----------+---------+----------+--------+-------------+-----------+-------------+-------------+------------+\n",
      "\n"
     ]
    }
   ],
   "source": [
    "null_counts = df_final.select([sum(col(c).isNull().cast(\"int\")).alias(c) for c in df_final.columns])\n",
    "\n",
    "# Show the result\n",
    "null_counts.show()"
   ]
  },
  {
   "cell_type": "code",
   "execution_count": null,
   "id": "f800c12e-2434-43b9-a02e-6016b67c1886",
   "metadata": {},
   "outputs": [],
   "source": []
  },
  {
   "cell_type": "code",
   "execution_count": 16,
   "id": "0d4fd92a-42c9-42d4-89fb-5d012bef3b41",
   "metadata": {},
   "outputs": [
    {
     "name": "stderr",
     "output_type": "stream",
     "text": [
      "                                                                                \r"
     ]
    }
   ],
   "source": [
    "df.write.mode(\"overwrite\").parquet(\"hdfs:///data/sliver/Fact_Table_parquet\")"
   ]
  },
  {
   "cell_type": "code",
   "execution_count": null,
   "id": "bf75b9e1-8174-45b8-b060-71c46037619c",
   "metadata": {},
   "outputs": [],
   "source": []
  }
 ],
 "metadata": {
  "kernelspec": {
   "display_name": "Python 3 (ipykernel)",
   "language": "python",
   "name": "python3"
  },
  "language_info": {
   "codemirror_mode": {
    "name": "ipython",
    "version": 3
   },
   "file_extension": ".py",
   "mimetype": "text/x-python",
   "name": "python",
   "nbconvert_exporter": "python",
   "pygments_lexer": "ipython3",
   "version": "3.11.7"
  }
 },
 "nbformat": 4,
 "nbformat_minor": 5
}
